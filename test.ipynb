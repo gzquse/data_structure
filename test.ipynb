{
 "cells": [
  {
   "cell_type": "code",
   "execution_count": 28,
   "metadata": {},
   "outputs": [
    {
     "data": {
      "text/plain": [
       "[[1], [1], [1, 1], [1, 1, 1]]"
      ]
     },
     "execution_count": 28,
     "metadata": {},
     "output_type": "execute_result"
    }
   ],
   "source": [
    "arr = [1,4,5,7]\n",
    "\n",
    "[[len(s) for s in str(bin(i)) if s == '1'] for i in arr] "
   ]
  },
  {
   "cell_type": "code",
   "execution_count": 3,
   "metadata": {},
   "outputs": [
    {
     "data": {
      "text/plain": [
       "'0b111'"
      ]
     },
     "execution_count": 3,
     "metadata": {},
     "output_type": "execute_result"
    }
   ],
   "source": [
    "bin(7)"
   ]
  },
  {
   "cell_type": "code",
   "execution_count": 12,
   "metadata": {},
   "outputs": [
    {
     "data": {
      "text/plain": [
       "1"
      ]
     },
     "execution_count": 12,
     "metadata": {},
     "output_type": "execute_result"
    }
   ],
   "source": [
    "arr.count(4)"
   ]
  },
  {
   "cell_type": "code",
   "execution_count": 15,
   "metadata": {},
   "outputs": [
    {
     "ename": "SyntaxError",
     "evalue": "invalid syntax (<ipython-input-15-475467d63fce>, line 2)",
     "output_type": "error",
     "traceback": [
      "\u001b[1;36m  File \u001b[1;32m\"<ipython-input-15-475467d63fce>\"\u001b[1;36m, line \u001b[1;32m2\u001b[0m\n\u001b[1;33m    [count += 1 for s in str(bin(i)) if s == '1']\u001b[0m\n\u001b[1;37m            ^\u001b[0m\n\u001b[1;31mSyntaxError\u001b[0m\u001b[1;31m:\u001b[0m invalid syntax\n"
     ]
    }
   ],
   "source": []
  },
  {
   "cell_type": "code",
   "execution_count": 16,
   "metadata": {},
   "outputs": [],
   "source": [
    "a = lambda x : x+1"
   ]
  },
  {
   "cell_type": "code",
   "execution_count": 17,
   "metadata": {},
   "outputs": [
    {
     "data": {
      "text/plain": [
       "2"
      ]
     },
     "execution_count": 17,
     "metadata": {},
     "output_type": "execute_result"
    }
   ],
   "source": [
    "a(1)"
   ]
  },
  {
   "cell_type": "code",
   "execution_count": 22,
   "metadata": {},
   "outputs": [
    {
     "data": {
      "text/plain": [
       "[1, 1]"
      ]
     },
     "execution_count": 22,
     "metadata": {},
     "output_type": "execute_result"
    }
   ],
   "source": [
    "\n",
    "[a(count) for s in str(bin(6)) if s == '1']"
   ]
  },
  {
   "cell_type": "code",
   "execution_count": 27,
   "metadata": {},
   "outputs": [],
   "source": [
    "a = lambda x: x+1 if s==\"1\" else x\n"
   ]
  },
  {
   "cell_type": "code",
   "execution_count": null,
   "metadata": {},
   "outputs": [],
   "source": [
    "sorted(s.items(), key=lambda x: x[0], reverse = True)"
   ]
  },
  {
   "cell_type": "code",
   "execution_count": 88,
   "metadata": {},
   "outputs": [],
   "source": [
    "str1 = '<p style=\"text-align: center;\"><img src=\"/Public/uploads/ueditor/images/date20180725/1532436242872273.jpg\" title=\"1532436242872273.jpg\" alt=\"1512654829116882_meitu_1.jpg\"/></p>'"
   ]
  },
  {
   "cell_type": "code",
   "execution_count": 80,
   "metadata": {},
   "outputs": [],
   "source": [
    "from collections import defaultdict\n",
    "import re\n"
   ]
  },
  {
   "cell_type": "code",
   "execution_count": 120,
   "metadata": {},
   "outputs": [
    {
     "data": {
      "text/plain": [
       "'/uploads/ueditor/images/date20180725/1532436242872273.jpg'"
      ]
     },
     "execution_count": 120,
     "metadata": {},
     "output_type": "execute_result"
    }
   ],
   "source": [
    "ret = re.search(r'/Public(.*)\" title=\"', str1)\n",
    "str3 = str2 + ret.group(0)\n",
    "ret.group(1)"
   ]
  },
  {
   "cell_type": "code",
   "execution_count": 121,
   "metadata": {},
   "outputs": [],
   "source": [
    "str2 = 'http://47.113.99.76:200'"
   ]
  },
  {
   "cell_type": "code",
   "execution_count": 122,
   "metadata": {},
   "outputs": [
    {
     "data": {
      "text/plain": [
       "'http://47.113.99.76:200/Public/uploads/ueditor/images/date20180725/1532436242872273.jpg\" title=\"'"
      ]
     },
     "execution_count": 122,
     "metadata": {},
     "output_type": "execute_result"
    }
   ],
   "source": [
    "str3 = str2 + ret.group(0)\n",
    "str3"
   ]
  },
  {
   "cell_type": "code",
   "execution_count": 105,
   "metadata": {},
   "outputs": [
    {
     "data": {
      "text/plain": [
       "'<p style=\"text-align: center;\"><img src=\"/Public/uploads/ueditor/images/date20180725/1532436242872273.jpg\" title=\"1532436242872273.jpg\" alt=\"1512654829116882_meitu_1.jpg\"/></p>'"
      ]
     },
     "execution_count": 105,
     "metadata": {},
     "output_type": "execute_result"
    }
   ],
   "source": [
    "str1"
   ]
  },
  {
   "cell_type": "code",
   "execution_count": 124,
   "metadata": {},
   "outputs": [
    {
     "data": {
      "text/plain": [
       "'<p style=\"text-align: center;\"><img src=\"http://47.113.99.76:200/Public/uploads/ueditor/images/date20180725/1532436242872273.jpg\" title=\"1532436242872273.jpg\" alt=\"1512654829116882_meitu_1.jpg\"/></p>'"
      ]
     },
     "execution_count": 124,
     "metadata": {},
     "output_type": "execute_result"
    }
   ],
   "source": [
    "pat = r'/Public(.*)\" title=\"'\n",
    "re.sub(pat, str3, str1)"
   ]
  },
  {
   "cell_type": "code",
   "execution_count": 109,
   "metadata": {},
   "outputs": [
    {
     "data": {
      "text/plain": [
       "'everybody is alright.'"
      ]
     },
     "execution_count": 109,
     "metadata": {},
     "output_type": "execute_result"
    }
   ],
   "source": [
    "src = 'everything is alright.'\n",
    "\n",
    "re.sub(r'(every).*?(\\s.*\\.)',r'\\1body\\2',src)"
   ]
  },
  {
   "cell_type": "code",
   "execution_count": 163,
   "metadata": {},
   "outputs": [
    {
     "data": {
      "text/plain": [
       "OrderedDict([('name', 'TOm2'), ('age', 10), ('Tel', 110)])"
      ]
     },
     "execution_count": 163,
     "metadata": {},
     "output_type": "execute_result"
    }
   ],
   "source": [
    "\n",
    "#生成一个字典\n",
    "d2 = {'name':'TOm2', 'age':10, 'Tel':110}\n",
    "#打印返回值\n",
    "import json\n",
    "\n",
    "from collections import OrderedDict\n",
    "d = OrderedDict()\n",
    "d.update(d2)\n",
    "d"
   ]
  },
  {
   "cell_type": "code",
   "execution_count": 145,
   "metadata": {},
   "outputs": [],
   "source": [
    "str1 = list()"
   ]
  },
  {
   "cell_type": "code",
   "execution_count": 146,
   "metadata": {},
   "outputs": [],
   "source": [
    "str1.append(s)"
   ]
  },
  {
   "cell_type": "code",
   "execution_count": 147,
   "metadata": {},
   "outputs": [
    {
     "data": {
      "text/plain": [
       "['{\"name\": \"Tom\", \"age\": 10, \"Tel\": 110}']"
      ]
     },
     "execution_count": 147,
     "metadata": {},
     "output_type": "execute_result"
    }
   ],
   "source": [
    "str1"
   ]
  },
  {
   "cell_type": "code",
   "execution_count": 166,
   "metadata": {},
   "outputs": [],
   "source": [
    "od = [OrderedDict([('id', 59), ('title', '噪声篇（一）恼人的噪声（初级）'), ('s_image', 'http://47.113.99.76:200/Public/uploads/images/2018/06/20180626150450132.png'), ('description', '本节课主要介绍了噪声的定义及特点，帮助同学们了解和学习到噪声污染。')]), OrderedDict([('id', 61), ('title', '噪声篇（一）恼人的噪声（中级）'), ('s_image', 'http://47.113.99.76:200/Public/uploads/images/2018/06/20180626153409104.png'), ('description', '本节课主要介绍了噪声的定义及特点，同时噪声与其他环境污染相比具有不同的特征。帮助同学们了解和学习到噪声污染。')]), OrderedDict([('id', 68), ('title', '噪声篇（二）你真的了解噪声吗（初级）'), ('s_image', 'http://47.113.99.76:200/Public/uploads/images/2018/06/20180626164846198.png'), ('description', '本节课主要介绍了噪声的来源还有噪声的具体分类，无处不在的噪声是从何而来？')]), OrderedDict([('id', 69), ('title', '噪声篇（二）你真的了解噪声吗（中级）'), ('s_image', 'http://47.113.99.76:200/Public/uploads/images/2018/06/20180626165012199.png'), ('description', '本节课主要介绍了噪声的来源还有噪声的具体分类，无处不在的噪声是从何而来？同时介绍了人耳所能接受的音频范围，包括超声波和次声波的定义。')])]"
   ]
  },
  {
   "cell_type": "code",
   "execution_count": 167,
   "metadata": {},
   "outputs": [
    {
     "data": {
      "text/plain": [
       "[OrderedDict([('id', 59),\n",
       "              ('title', '噪声篇（一）恼人的噪声（初级）'),\n",
       "              ('s_image',\n",
       "               'http://47.113.99.76:200/Public/uploads/images/2018/06/20180626150450132.png'),\n",
       "              ('description', '本节课主要介绍了噪声的定义及特点，帮助同学们了解和学习到噪声污染。')]),\n",
       " OrderedDict([('id', 61),\n",
       "              ('title', '噪声篇（一）恼人的噪声（中级）'),\n",
       "              ('s_image',\n",
       "               'http://47.113.99.76:200/Public/uploads/images/2018/06/20180626153409104.png'),\n",
       "              ('description',\n",
       "               '本节课主要介绍了噪声的定义及特点，同时噪声与其他环境污染相比具有不同的特征。帮助同学们了解和学习到噪声污染。')]),\n",
       " OrderedDict([('id', 68),\n",
       "              ('title', '噪声篇（二）你真的了解噪声吗（初级）'),\n",
       "              ('s_image',\n",
       "               'http://47.113.99.76:200/Public/uploads/images/2018/06/20180626164846198.png'),\n",
       "              ('description', '本节课主要介绍了噪声的来源还有噪声的具体分类，无处不在的噪声是从何而来？')]),\n",
       " OrderedDict([('id', 69),\n",
       "              ('title', '噪声篇（二）你真的了解噪声吗（中级）'),\n",
       "              ('s_image',\n",
       "               'http://47.113.99.76:200/Public/uploads/images/2018/06/20180626165012199.png'),\n",
       "              ('description',\n",
       "               '本节课主要介绍了噪声的来源还有噪声的具体分类，无处不在的噪声是从何而来？同时介绍了人耳所能接受的音频范围，包括超声波和次声波的定义。')])]"
      ]
     },
     "execution_count": 167,
     "metadata": {},
     "output_type": "execute_result"
    }
   ],
   "source": [
    "od"
   ]
  },
  {
   "cell_type": "code",
   "execution_count": 177,
   "metadata": {},
   "outputs": [
    {
     "data": {
      "text/plain": [
       "[{'id': 59,\n",
       "  'title': '噪声篇（一）恼人的噪声（初级）',\n",
       "  's_image': 'http://47.113.99.76:200/Public/uploads/images/2018/06/20180626150450132.png',\n",
       "  'description': '本节课主要介绍了噪声的定义及特点，帮助同学们了解和学习到噪声污染。'},\n",
       " {'id': 61,\n",
       "  'title': '噪声篇（一）恼人的噪声（中级）',\n",
       "  's_image': 'http://47.113.99.76:200/Public/uploads/images/2018/06/20180626153409104.png',\n",
       "  'description': '本节课主要介绍了噪声的定义及特点，同时噪声与其他环境污染相比具有不同的特征。帮助同学们了解和学习到噪声污染。'},\n",
       " {'id': 68,\n",
       "  'title': '噪声篇（二）你真的了解噪声吗（初级）',\n",
       "  's_image': 'http://47.113.99.76:200/Public/uploads/images/2018/06/20180626164846198.png',\n",
       "  'description': '本节课主要介绍了噪声的来源还有噪声的具体分类，无处不在的噪声是从何而来？'},\n",
       " {'id': 69,\n",
       "  'title': '噪声篇（二）你真的了解噪声吗（中级）',\n",
       "  's_image': 'http://47.113.99.76:200/Public/uploads/images/2018/06/20180626165012199.png',\n",
       "  'description': '本节课主要介绍了噪声的来源还有噪声的具体分类，无处不在的噪声是从何而来？同时介绍了人耳所能接受的音频范围，包括超声波和次声波的定义。'}]"
      ]
     },
     "execution_count": 177,
     "metadata": {},
     "output_type": "execute_result"
    }
   ],
   "source": [
    "tmp = []\n",
    "for i in od:\n",
    "    jsd = json.dumps(i)\n",
    "    jsdd = json.loads(jsd)\n",
    "    tmp.append(jsdd)\n",
    "tmp"
   ]
  },
  {
   "cell_type": "code",
   "execution_count": 179,
   "metadata": {},
   "outputs": [],
   "source": [
    "data = \"[{'id': 49, 'title': '水资源（二）永不停息地球水循环（初级）', 's_image': 'http://47.113.99.76:200/Public/uploads/images/2018/06/20180626130320118.png', 'description': '本节课主要介绍了水这种物质是如何在地球圈层中循环运动的，其中包括海上内水循环、陆地水循环和海陆大循环等。有助于同学们一起感受水循环及其产生的具体过程。'}, {'id': 47, 'title': '水资源（一）生命之源水（初级）', 's_image': 'http://47.113.99.76:200/Public/uploads/images/2018/06/20180626114803116.png', 'description': ''}]\""
   ]
  },
  {
   "cell_type": "code",
   "execution_count": 180,
   "metadata": {},
   "outputs": [
    {
     "data": {
      "text/plain": [
       "\"[{'id': 49, 'title': '水资源（二）永不停息地球水循环（初级）', 's_image': 'http://47.113.99.76:200/Public/uploads/images/2018/06/20180626130320118.png', 'description': '本节课主要介绍了水这种物质是如何在地球圈层中循环运动的，其中包括海上内水循环、陆地水循环和海陆大循环等。有助于同学们一起感受水循环及其产生的具体过程。'}, {'id': 47, 'title': '水资源（一）生命之源水（初级）', 's_image': 'http://47.113.99.76:200/Public/uploads/images/2018/06/20180626114803116.png', 'description': ''}]\""
      ]
     },
     "execution_count": 180,
     "metadata": {},
     "output_type": "execute_result"
    }
   ],
   "source": [
    "data"
   ]
  },
  {
   "cell_type": "code",
   "execution_count": 188,
   "metadata": {},
   "outputs": [],
   "source": [
    "str_data = eval(data)"
   ]
  },
  {
   "cell_type": "code",
   "execution_count": 190,
   "metadata": {},
   "outputs": [
    {
     "name": "stdout",
     "output_type": "stream",
     "text": [
      "{'id': 49, 'title': '水资源（二）永不停息地球水循环（初级）', 's_image': 'http://47.113.99.76:200/Public/uploads/images/2018/06/20180626130320118.png', 'description': '本节课主要介绍了水这种物质是如何在地球圈层中循环运动的，其中包括海上内水循环、陆地水循环和海陆大循环等。有助于同学们一起感受水循环及其产生的具体过程。'}\n",
      "{'id': 47, 'title': '水资源（一）生命之源水（初级）', 's_image': 'http://47.113.99.76:200/Public/uploads/images/2018/06/20180626114803116.png', 'description': ''}\n"
     ]
    }
   ],
   "source": [
    "for i in str_data:\n",
    "    print(i)"
   ]
  },
  {
   "cell_type": "code",
   "execution_count": 194,
   "metadata": {},
   "outputs": [
    {
     "name": "stdout",
     "output_type": "stream",
     "text": [
      "1\n"
     ]
    }
   ],
   "source": [
    "s = ' '\n",
    "s1 = ''\n",
    "if s:\n",
    "    print(1)\n",
    "if s1:\n",
    "    print(2)"
   ]
  },
  {
   "cell_type": "code",
   "execution_count": 195,
   "metadata": {},
   "outputs": [],
   "source": [
    "l1 = list()\n",
    "l1.append(1)\n",
    "l1.append(2)"
   ]
  },
  {
   "cell_type": "code",
   "execution_count": 196,
   "metadata": {},
   "outputs": [
    {
     "data": {
      "text/plain": [
       "[1, 2]"
      ]
     },
     "execution_count": 196,
     "metadata": {},
     "output_type": "execute_result"
    }
   ],
   "source": [
    "l1"
   ]
  },
  {
   "cell_type": "code",
   "execution_count": 216,
   "metadata": {},
   "outputs": [],
   "source": [
    "s1 = \"['1','2']\""
   ]
  },
  {
   "cell_type": "code",
   "execution_count": 218,
   "metadata": {},
   "outputs": [
    {
     "name": "stdout",
     "output_type": "stream",
     "text": [
      "['1', '2']\n"
     ]
    }
   ],
   "source": [
    "a = eval(s1)\n",
    "print(a)\n",
    "num = 1"
   ]
  },
  {
   "cell_type": "code",
   "execution_count": 206,
   "metadata": {},
   "outputs": [
    {
     "ename": "SyntaxError",
     "evalue": "invalid syntax (<ipython-input-206-9b34a347527e>, line 1)",
     "output_type": "error",
     "traceback": [
      "\u001b[1;36m  File \u001b[1;32m\"<ipython-input-206-9b34a347527e>\"\u001b[1;36m, line \u001b[1;32m1\u001b[0m\n\u001b[1;33m    a.append(num) lambda for i in a if num != i\u001b[0m\n\u001b[1;37m                       ^\u001b[0m\n\u001b[1;31mSyntaxError\u001b[0m\u001b[1;31m:\u001b[0m invalid syntax\n"
     ]
    }
   ],
   "source": [
    "a.append(num) for i in a if num != i "
   ]
  },
  {
   "cell_type": "code",
   "execution_count": 209,
   "metadata": {},
   "outputs": [
    {
     "ename": "SyntaxError",
     "evalue": "invalid syntax (<ipython-input-209-79acc2ebe960>, line 1)",
     "output_type": "error",
     "traceback": [
      "\u001b[1;36m  File \u001b[1;32m\"<ipython-input-209-79acc2ebe960>\"\u001b[1;36m, line \u001b[1;32m1\u001b[0m\n\u001b[1;33m    lambda (a.append(b)) if b!=1\u001b[0m\n\u001b[1;37m           ^\u001b[0m\n\u001b[1;31mSyntaxError\u001b[0m\u001b[1;31m:\u001b[0m invalid syntax\n"
     ]
    }
   ],
   "source": [
    "\n",
    "lambda (a.append(b)) if b!=1"
   ]
  },
  {
   "cell_type": "code",
   "execution_count": 211,
   "metadata": {},
   "outputs": [],
   "source": [
    "a = []\n",
    "b = a.append(1)"
   ]
  },
  {
   "cell_type": "code",
   "execution_count": 214,
   "metadata": {},
   "outputs": [
    {
     "name": "stdout",
     "output_type": "stream",
     "text": [
      "None\n"
     ]
    }
   ],
   "source": [
    "print(b)"
   ]
  },
  {
   "cell_type": "code",
   "execution_count": 13,
   "metadata": {},
   "outputs": [
    {
     "name": "stdout",
     "output_type": "stream",
     "text": [
      "4\n",
      "3\n",
      "2\n",
      "1\n",
      "0\n"
     ]
    }
   ],
   "source": [
    "a = [i for i in range(5)]\n",
    "for i in range(4,-1,-1):\n",
    "    print(a[i])"
   ]
  },
  {
   "cell_type": "code",
   "execution_count": 6,
   "metadata": {},
   "outputs": [
    {
     "name": "stdout",
     "output_type": "stream",
     "text": [
      "1\n"
     ]
    }
   ],
   "source": [
    "print(1)"
   ]
  },
  {
   "cell_type": "code",
   "execution_count": 14,
   "metadata": {},
   "outputs": [
    {
     "name": "stdout",
     "output_type": "stream",
     "text": [
      "9223372036854775807\n"
     ]
    }
   ],
   "source": [
    "import sys\n",
    "print(sys.maxsize)"
   ]
  },
  {
   "cell_type": "code",
   "execution_count": 15,
   "metadata": {},
   "outputs": [
    {
     "name": "stdout",
     "output_type": "stream",
     "text": [
      "2147483648\n"
     ]
    }
   ],
   "source": [
    "print(2**31)"
   ]
  },
  {
   "cell_type": "code",
   "execution_count": null,
   "metadata": {},
   "outputs": [],
   "source": []
  }
 ],
 "metadata": {
  "kernelspec": {
   "display_name": "Python conda",
   "language": "python",
   "name": "python3"
  },
  "language_info": {
   "codemirror_mode": {
    "name": "ipython",
    "version": 3
   },
   "file_extension": ".py",
   "mimetype": "text/x-python",
   "name": "python",
   "nbconvert_exporter": "python",
   "pygments_lexer": "ipython3",
   "version": "3.8.5"
  }
 },
 "nbformat": 4,
 "nbformat_minor": 4
}
