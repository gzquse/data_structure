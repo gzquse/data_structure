{
 "cells": [
  {
   "cell_type": "code",
   "execution_count": 25,
   "metadata": {},
   "outputs": [
    {
     "name": "stdout",
     "output_type": "stream",
     "text": [
      "defaultdict(<class 'set'>, {'val': set()})\n"
     ]
    }
   ],
   "source": [
    "import collections\n",
    "v = list()\n",
    "v.append(1)\n",
    "v.append(2)\n",
    "d = collections.defaultdict(set)\n",
    "d['val'].add(len(v)) #存储下标\n",
    "\n",
    "\n",
    "i = d['val'].pop()\n",
    "print(d)\n",
    "\n",
    "# v[(i := d['val'].pop())] = v[-1]\n",
    "\n",
    "# d[(last := v.pop())].discard(len(v))"
   ]
  },
  {
   "cell_type": "code",
   "execution_count": 1,
   "metadata": {},
   "outputs": [
    {
     "ename": "AttributeError",
     "evalue": "'int' object has no attribute 'pop'",
     "output_type": "error",
     "traceback": [
      "\u001b[1;31m---------------------------------------------------------------------------\u001b[0m",
      "\u001b[1;31mAttributeError\u001b[0m                            Traceback (most recent call last)",
      "\u001b[1;32m<ipython-input-1-c7b817e51d66>\u001b[0m in \u001b[0;36m<module>\u001b[1;34m\u001b[0m\n\u001b[0;32m      2\u001b[0m \u001b[0md\u001b[0m \u001b[1;33m=\u001b[0m \u001b[0mcollections\u001b[0m\u001b[1;33m.\u001b[0m\u001b[0mdefaultdict\u001b[0m\u001b[1;33m(\u001b[0m\u001b[0mset\u001b[0m\u001b[1;33m)\u001b[0m\u001b[1;33m\u001b[0m\u001b[1;33m\u001b[0m\u001b[0m\n\u001b[0;32m      3\u001b[0m \u001b[0md\u001b[0m \u001b[1;33m=\u001b[0m \u001b[1;33m{\u001b[0m\u001b[1;34m'a'\u001b[0m \u001b[1;33m:\u001b[0m \u001b[1;36m1\u001b[0m\u001b[1;33m,\u001b[0m \u001b[1;34m'b'\u001b[0m\u001b[1;33m:\u001b[0m \u001b[1;36m2\u001b[0m\u001b[1;33m}\u001b[0m\u001b[1;33m\u001b[0m\u001b[1;33m\u001b[0m\u001b[0m\n\u001b[1;32m----> 4\u001b[1;33m \u001b[0ma\u001b[0m \u001b[1;33m=\u001b[0m \u001b[0md\u001b[0m\u001b[1;33m[\u001b[0m\u001b[1;34m'a'\u001b[0m\u001b[1;33m]\u001b[0m\u001b[1;33m.\u001b[0m\u001b[0mpop\u001b[0m\u001b[1;33m(\u001b[0m\u001b[1;33m)\u001b[0m\u001b[1;33m\u001b[0m\u001b[1;33m\u001b[0m\u001b[0m\n\u001b[0m",
      "\u001b[1;31mAttributeError\u001b[0m: 'int' object has no attribute 'pop'"
     ]
    }
   ],
   "source": [
    "import collections\n",
    "d = collections.defaultdict(set)\n",
    "d = {'a' : 1, 'b': 2}\n",
    "a = d['a'].pop()"
   ]
  },
  {
   "cell_type": "code",
   "execution_count": 37,
   "metadata": {},
   "outputs": [],
   "source": [
    "s1 = '12'\n",
    "d = list(s1)"
   ]
  },
  {
   "cell_type": "code",
   "execution_count": 39,
   "metadata": {},
   "outputs": [],
   "source": [
    "s = [int(i) for i in d]"
   ]
  },
  {
   "cell_type": "code",
   "execution_count": 41,
   "metadata": {},
   "outputs": [],
   "source": [
    "temp = ['asfa' , 'agsga']"
   ]
  },
  {
   "cell_type": "code",
   "execution_count": 78,
   "metadata": {},
   "outputs": [
    {
     "name": "stdout",
     "output_type": "stream",
     "text": [
      "{\"a\": \"hello\", \"b\": \"world\"}\n"
     ]
    }
   ],
   "source": [
    "import ast\n",
    "import json\n",
    "aa = {\n",
    "    \"a\": \"hello\",\n",
    "    \"b\": \"world\"\n",
    "}\n",
    "#print(aa)\n",
    "\n",
    "# dict 转单引号字符串\n",
    "bb = str(aa)\n",
    "# print(bb)\n",
    "\n",
    "# 单引号字符串转dict\n",
    "cc = json.dumps(aa)\n",
    "print(cc)"
   ]
  },
  {
   "cell_type": "code",
   "execution_count": 79,
   "metadata": {},
   "outputs": [],
   "source": [
    "b = '{\"id\": 49, \"title\": \"\\\\u6c34\\\\u8d44\\\\u6e90\\\\uff08\\\\u4e8c\\\\uff09\\\\u6c38\\\\u4e0d\\\\u505c\\\\u606f\\\\u5730\\\\u7403\\\\u6c34\\\\u5faa\\\\u73af\\\\uff08\\\\u521d\\\\u7ea7\\\\uff09\", \"s_image\": \"/Public/uploads/images/2018/06/20180626130320118.png\", \"description\": \"\\\\u672c\\\\u8282\\\\u8bfe\\\\u4e3b\\\\u8981\\\\u4ecb\\\\u7ecd\\\\u4e86\\\\u6c34\\\\u8fd9\\\\u79cd\\\\u7269\\\\u8d28\\\\u662f\\\\u5982\\\\u4f55\\\\u5728\\\\u5730\\\\u7403\\\\u5708\\\\u5c42\\\\u4e2d\\\\u5faa\\\\u73af\\\\u8fd0\\\\u52a8\\\\u7684\\\\uff0c\\\\u5176\\\\u4e2d\\\\u5305\\\\u62ec\\\\u6d77\\\\u4e0a\\\\u5185\\\\u6c34\\\\u5faa\\\\u73af\\\\u3001\\\\u9646\\\\u5730\\\\u6c34\\\\u5faa\\\\u73af\\\\u548c\\\\u6d77\\\\u9646\\\\u5927\\\\u5faa\\\\u73af\\\\u7b49\\\\u3002\\\\u6709\\\\u52a9\\\\u4e8e\\\\u540c\\\\u5b66\\\\u4eec\\\\u4e00\\\\u8d77\\\\u611f\\\\u53d7\\\\u6c34\\\\u5faa\\\\u73af\\\\u53ca\\\\u5176\\\\u4ea7\\\\u751f\\\\u7684\\\\u5177\\\\u4f53\\\\u8fc7\\\\u7a0b\\\\u3002\"}'"
   ]
  },
  {
   "cell_type": "code",
   "execution_count": 84,
   "metadata": {},
   "outputs": [
    {
     "data": {
      "text/plain": [
       "{'id': 49,\n",
       " 'title': '水资源（二）永不停息地球水循环（初级）',\n",
       " 's_image': '/Public/uploads/images/2018/06/20180626130320118.png',\n",
       " 'description': '本节课主要介绍了水这种物质是如何在地球圈层中循环运动的，其中包括海上内水循环、陆地水循环和海陆大循环等。有助于同学们一起感受水循环及其产生的具体过程。'}"
      ]
     },
     "execution_count": 84,
     "metadata": {},
     "output_type": "execute_result"
    }
   ],
   "source": [
    "json.loads(b)"
   ]
  },
  {
   "cell_type": "code",
   "execution_count": 85,
   "metadata": {},
   "outputs": [
    {
     "data": {
      "text/plain": [
       "[{'id': 47,\n",
       "  'title': '水资源（一）生命之源水（初级）',\n",
       "  's_image': '/Public/uploads/images/2018/06/20180626114803116.png',\n",
       "  'description': ''}]"
      ]
     },
     "execution_count": 85,
     "metadata": {},
     "output_type": "execute_result"
    }
   ],
   "source": [
    "[{'id': 47, 'title': '水资源（一）生命之源水（初级）', 's_image': '/Public/uploads/images/2018/06/20180626114803116.png', 'description': ''}]"
   ]
  },
  {
   "cell_type": "code",
   "execution_count": 93,
   "metadata": {},
   "outputs": [],
   "source": [
    "s = \"[{'id': 47, 'title': '水资源（一）生命之源水（初级）', 's_image': '/Public/uploads/images/2018/06/20180626114803116.png', 'description': ''}]\""
   ]
  },
  {
   "cell_type": "code",
   "execution_count": 124,
   "metadata": {},
   "outputs": [
    {
     "data": {
      "text/plain": [
       "[{'id': 47,\n",
       "  'title': '水资源（一）生命之源水（初级）',\n",
       "  's_image': '/Public/uploads/images/2018/06/20180626114803116.png',\n",
       "  'description': ''}]"
      ]
     },
     "execution_count": 124,
     "metadata": {},
     "output_type": "execute_result"
    }
   ],
   "source": [
    "s = \"[{'id': 47, 'title': '水资源（一）生命之源水（初级）', 's_image': '/Public/uploads/images/2018/06/20180626114803116.png', 'description': ''}]\"\n",
    "s1 = eval(s)\n",
    "s1"
   ]
  },
  {
   "cell_type": "code",
   "execution_count": 122,
   "metadata": {},
   "outputs": [
    {
     "name": "stdout",
     "output_type": "stream",
     "text": [
      "b'example'\n",
      "example\n",
      "b'example'\n",
      "b'example'\n",
      "<class 'bytes'>\n",
      "b'example'\n",
      "example\n",
      "example\n"
     ]
    }
   ],
   "source": [
    "b = b\"example\"\n",
    "s = \"example\"\n",
    "print(b)\n",
    "print(\"example\")\n",
    "b2 = bytes(s,encoding='utf8')\n",
    "print(b2)\n",
    "b3 = str.encode(s)\n",
    "b4 = s.encode()\n",
    "print(b3)\n",
    "print(type(b3))\n",
    "print(b4)\n",
    "s2 = bytes.decode(b)\n",
    "s3 = b.decode()\n",
    "print(s2)\n",
    "print(s3)"
   ]
  },
  {
   "cell_type": "code",
   "execution_count": 4,
   "metadata": {},
   "outputs": [
    {
     "data": {
      "text/plain": [
       "True"
      ]
     },
     "execution_count": 4,
     "metadata": {},
     "output_type": "execute_result"
    }
   ],
   "source": [
    "i = 1\n",
    "v = [1,2]\n",
    "k = 4\n",
    "i < 2 and k > 3"
   ]
  },
  {
   "cell_type": "code",
   "execution_count": 14,
   "metadata": {},
   "outputs": [],
   "source": [
    "s = [True if i == 0 else False for i in range(4)]"
   ]
  },
  {
   "cell_type": "code",
   "execution_count": 15,
   "metadata": {},
   "outputs": [
    {
     "data": {
      "text/plain": [
       "[True, False, False, False]"
      ]
     },
     "execution_count": 15,
     "metadata": {},
     "output_type": "execute_result"
    }
   ],
   "source": [
    "s"
   ]
  },
  {
   "cell_type": "code",
   "execution_count": 8,
   "metadata": {},
   "outputs": [],
   "source": [
    "a = [{'a':1,'b':1}, {'c':1,'d':1}]\n",
    "for i, aa in enumerate(a):\n",
    "    if 'c' in aa.keys():\n",
    "        a.pop(i)\n"
   ]
  },
  {
   "cell_type": "code",
   "execution_count": 9,
   "metadata": {},
   "outputs": [
    {
     "data": {
      "text/plain": [
       "[{'a': 1, 'b': 1}]"
      ]
     },
     "execution_count": 9,
     "metadata": {},
     "output_type": "execute_result"
    }
   ],
   "source": [
    "a"
   ]
  },
  {
   "cell_type": "code",
   "execution_count": null,
   "metadata": {},
   "outputs": [],
   "source": [
    "import os\n",
    "file_list=os.listdir(\".\")\n",
    "for filename in file_list:\n",
    "    pos=filename.find(\".\")\n",
    "    if filename[pos+1:]==\"html\":\n",
    "        newname=filename[:pos+1]+\"htm\"\n",
    "        os.rename(filename,newname)\n",
    "        print(filename+\"更名为:\"+newname)"
   ]
  }
 ],
 "metadata": {
  "kernelspec": {
   "display_name": "Python36",
   "language": "python",
   "name": "python36"
  },
  "language_info": {
   "codemirror_mode": {
    "name": "ipython",
    "version": 3
   },
   "file_extension": ".py",
   "mimetype": "text/x-python",
   "name": "python",
   "nbconvert_exporter": "python",
   "pygments_lexer": "ipython3",
   "version": "3.6.10"
  }
 },
 "nbformat": 4,
 "nbformat_minor": 4
}
