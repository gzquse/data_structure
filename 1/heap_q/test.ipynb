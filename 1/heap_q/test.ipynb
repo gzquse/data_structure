{
 "cells": [
  {
   "cell_type": "code",
   "execution_count": null,
   "metadata": {
    "jupyter": {
     "source_hidden": true
    }
   },
   "outputs": [],
   "source": [
    "def topFrequent(words, k):\n",
    "    counts = Counter(words)\n",
    "    freq = []\n",
    "    heapq.heapify(freqs)\n",
    "    for word, count in counts.items():\n",
    "        heapq.heappush(freqs, Elements(count, word),word):\n",
    "            if len(freqs)>k:\n",
    "                headq.heappop(freqs)\n",
    "        \n",
    "        res = []\n",
    "        for _ in range(k):\n",
    "            res.append(heapq.heappop(freq)[1])\n",
    "        return res[::-1]"
   ]
  },
  {
   "cell_type": "code",
   "execution_count": 1,
   "metadata": {},
   "outputs": [],
   "source": [
    "import heapq\n",
    "q2, q3, q5 = [2], [3], [5]\n",
    "h = heapq.merge(q2, q3, q5)"
   ]
  },
  {
   "cell_type": "code",
   "execution_count": 3,
   "metadata": {},
   "outputs": [],
   "source": [
    "for i in h:\n",
    "    print(i)"
   ]
  },
  {
   "cell_type": "code",
   "execution_count": 10,
   "metadata": {},
   "outputs": [
    {
     "data": {
      "text/plain": [
       "-4"
      ]
     },
     "execution_count": 10,
     "metadata": {},
     "output_type": "execute_result"
    }
   ],
   "source": [
    "h = []\n",
    "heapq.heappush(h ,-1)\n",
    "heapq.heappush(h ,-2)\n",
    "heapq.heappush(h ,-3)\n",
    "heapq.heappush(h ,-4)\n",
    "\n",
    "heapq.heappop(h)"
   ]
  },
  {
   "cell_type": "code",
   "execution_count": null,
   "metadata": {},
   "outputs": [],
   "source": []
  },
  {
   "cell_type": "code",
   "execution_count": 11,
   "metadata": {},
   "outputs": [],
   "source": [
    "def cutP(m, n, curr):\n",
    "    if curr >= n:\n",
    "        return 0\n",
    "    elif curr < m:\n",
    "        return 1 + cutP(m, n, curr*2)\n",
    "    else:\n",
    "        return 1 + cutP(m, n, curr+m)\n"
   ]
  },
  {
   "cell_type": "code",
   "execution_count": null,
   "metadata": {},
   "outputs": [],
   "source": []
  },
  {
   "cell_type": "code",
   "execution_count": 12,
   "metadata": {},
   "outputs": [
    {
     "data": {
      "text/plain": [
       "8"
      ]
     },
     "execution_count": 12,
     "metadata": {},
     "output_type": "execute_result"
    }
   ],
   "source": [
    "cutP(3, 20, 1)"
   ]
  },
  {
   "cell_type": "code",
   "execution_count": null,
   "metadata": {},
   "outputs": [],
   "source": []
  },
  {
   "cell_type": "code",
   "execution_count": 1,
   "metadata": {},
   "outputs": [],
   "source": []
  },
  {
   "cell_type": "code",
   "execution_count": 2,
   "metadata": {
    "collapsed": true,
    "jupyter": {
     "outputs_hidden": true
    }
   },
   "outputs": [
    {
     "data": {
      "text/plain": [
       "[0,\n",
       " 1,\n",
       " 4,\n",
       " 9,\n",
       " 16,\n",
       " 25,\n",
       " 36,\n",
       " 49,\n",
       " 64,\n",
       " 81,\n",
       " 100,\n",
       " 121,\n",
       " 144,\n",
       " 169,\n",
       " 196,\n",
       " 225,\n",
       " 256,\n",
       " 289,\n",
       " 324,\n",
       " 361]"
      ]
     },
     "execution_count": 2,
     "metadata": {},
     "output_type": "execute_result"
    }
   ],
   "source": [
    "def cut(n):\n",
    "    fruits = [i for i in range(n)]\n",
    "    for f in fruits:\n",
    "        if f\n",
    "            "
   ]
  },
  {
   "cell_type": "code",
   "execution_count": 4,
   "metadata": {},
   "outputs": [],
   "source": [
    "fruits = [i for i in range(10)]"
   ]
  },
  {
   "cell_type": "code",
   "execution_count": 5,
   "metadata": {},
   "outputs": [
    {
     "data": {
      "text/plain": [
       "[0, 1, 2, 3, 4, 5, 6, 7, 8, 9]"
      ]
     },
     "execution_count": 5,
     "metadata": {},
     "output_type": "execute_result"
    }
   ],
   "source": [
    "fruits"
   ]
  },
  {
   "cell_type": "code",
   "execution_count": 17,
   "metadata": {},
   "outputs": [
    {
     "name": "stdout",
     "output_type": "stream",
     "text": [
      "最小的N为：32\n"
     ]
    }
   ],
   "source": [
    "import math\n",
    " \n",
    "def check_cake_list(start_cake, use_list, sqrt_list):\n",
    "    for index, number in enumerate(use_list):\n",
    "        if (start_cake + number) in sqrt_list:\n",
    "            res_cakes = use_list[:index] + use_list[index+1:]\n",
    "            if len(res_cakes) == 0:\n",
    "                if (number + 1) in sqrt_list:\n",
    "                    return True\n",
    "            if check_cake_list(number, res_cakes, sqrt_list):\n",
    "                return True\n",
    " \n",
    "    return False\n",
    " \n",
    "N = 2\n",
    "while True:\n",
    "    cake_list = [i for i in range(2, N+1)]\n",
    "    sqrt_numbers = [i*i for i in range(1, int(math.sqrt(N*2))+2)]\n",
    " \n",
    "    if check_cake_list(1, cake_list, sqrt_numbers):\n",
    "        break\n",
    " \n",
    "    N += 1\n",
    " \n",
    "print(\"最小的N为：%s\" % N)"
   ]
  },
  {
   "cell_type": "code",
   "execution_count": null,
   "metadata": {},
   "outputs": [],
   "source": []
  },
  {
   "cell_type": "code",
   "execution_count": 18,
   "metadata": {},
   "outputs": [],
   "source": [
    "dic = {\n",
    "    '1':1\n",
    "}"
   ]
  },
  {
   "cell_type": "code",
   "execution_count": 22,
   "metadata": {},
   "outputs": [
    {
     "data": {
      "text/plain": [
       "[{'1': 1}, {2: 2}]"
      ]
     },
     "execution_count": 22,
     "metadata": {},
     "output_type": "execute_result"
    }
   ],
   "source": [
    "[dic]+[{2:2}]"
   ]
  },
  {
   "cell_type": "code",
   "execution_count": null,
   "metadata": {},
   "outputs": [],
   "source": []
  }
 ],
 "metadata": {
  "kernelspec": {
   "display_name": "Python conda",
   "language": "python",
   "name": "python3"
  },
  "language_info": {
   "codemirror_mode": {
    "name": "ipython",
    "version": 3
   },
   "file_extension": ".py",
   "mimetype": "text/x-python",
   "name": "python",
   "nbconvert_exporter": "python",
   "pygments_lexer": "ipython3",
   "version": "3.8.5"
  }
 },
 "nbformat": 4,
 "nbformat_minor": 4
}
