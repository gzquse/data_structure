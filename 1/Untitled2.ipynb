{
 "cells": [
  {
   "cell_type": "code",
   "execution_count": 1,
   "metadata": {},
   "outputs": [
    {
     "data": {
      "text/plain": [
       "'html'"
      ]
     },
     "execution_count": 1,
     "metadata": {},
     "output_type": "execute_result"
    }
   ],
   "source": [
    "import pymysql\n",
    "connect = pymysql.connect(\n",
    "                host='localhost',\n",
    "                port=3306,\n",
    "                user='root',\n",
    "                passwd='990514',\n",
    "                db='resource-library',\n",
    "                charset='utf8',\n",
    "                use_unicode=True)\n",
    "                # 通过cursor执行增删查改\n",
    "cursor = connect.cursor()\n",
    "id_ = 1\n",
    "cursor.execute(\"\"\"\n",
    "                    select * from grasp_setting_info where grasp_id = {id};\n",
    "                \"\"\".format(id = id_))\n",
    "connect.commit()\n",
    "fetch = cursor.fetchone()\n",
    "\n",
    "grasp_id = [fetch[0]]\n",
    "grasp_url= [fetch[1]]\n",
    "grasp_way= [fetch[2]]\n",
    "content_type= [fetch[3]]\n",
    "runtime=[fetch[4]]\n",
    "grasp_depth= [fetch[5]]\n",
    "settings_list = grasp_id +grasp_url+grasp_way+content_type+runtime+grasp_depth\n",
    "settings_list[3]\n",
    "\n",
    "\n",
    "\n"
   ]
  },
  {
   "cell_type": "code",
   "execution_count": 86,
   "metadata": {},
   "outputs": [
    {
     "data": {
      "text/plain": [
       "True"
      ]
     },
     "execution_count": 86,
     "metadata": {},
     "output_type": "execute_result"
    }
   ],
   "source": [
    "import pymysql\n",
    "import pandas as pd\n",
    "\n",
    "connect = pymysql.connect(\n",
    "                host='localhost',\n",
    "                port=3306,\n",
    "                user='root',\n",
    "                passwd='990514',\n",
    "                db='resource-library',\n",
    "                charset='utf8',\n",
    "                use_unicode=True)\n",
    "\n",
    "sql = \"SELECT weburl FROM grasp_data;\"  #从你的MySQL里提数据，我这里取url来去重。\n",
    "df = pd.read_sql(sql, connect)\n",
    "df\n",
    "df['weburl'].get_values().tolist() == []"
   ]
  },
  {
   "cell_type": "code",
   "execution_count": 79,
   "metadata": {},
   "outputs": [
    {
     "name": "stdout",
     "output_type": "stream",
     "text": [
      "None\n"
     ]
    }
   ],
   "source": [
    "import numpy as np\n",
    "array = np.array([None])\n",
    "print(array.tolist()[0])\n"
   ]
  },
  {
   "cell_type": "code",
   "execution_count": 5,
   "metadata": {},
   "outputs": [
    {
     "data": {
      "text/plain": [
       "'D:\\\\datastructure\\\\1'"
      ]
     },
     "execution_count": 5,
     "metadata": {},
     "output_type": "execute_result"
    }
   ],
   "source": [
    "import os\n",
    "\n",
    "#获取当前目录绝对路径\n",
    "dir_path = os.getcwd()\n",
    "dir_path"
   ]
  },
  {
   "cell_type": "code",
   "execution_count": 53,
   "metadata": {},
   "outputs": [
    {
     "name": "stdout",
     "output_type": "stream",
     "text": [
      "[1, 'http://www.scdzj.gov.cn/dzpd/dzzj/', '深度抓取', 'html', '四川省地震局', '每日', 1, '2019-01-04 18:55:53', 3]\n",
      "['每日']\n",
      "[1]\n",
      "<class 'str'>\n"
     ]
    }
   ],
   "source": [
    "import pymysql\n",
    "import datetime as d\n",
    "connect = pymysql.connect(\n",
    "                host='localhost',\n",
    "                port=3306,\n",
    "                user='root',\n",
    "                passwd='990514',\n",
    "                db='resource-library',\n",
    "                charset='utf8',\n",
    "                use_unicode=True)\n",
    "                # 通过cursor执行增删查改\n",
    "cursor = connect.cursor()\n",
    "cursor.execute(\"\"\"\n",
    "    select max(grasp_id) from grasp_setting_info;\n",
    "\"\"\")        \n",
    "id_ = 1\n",
    "if (id_ <= 9):\n",
    "    cursor.execute(\"\"\"\n",
    "                             select * from grasp_setting_info where grasp_id = {id};\n",
    "                         \"\"\".format(id=id_))\n",
    "    id_ += 1\n",
    "    connect.commit()\n",
    "           # 返回设置语句(元祖)\n",
    "    fetch = cursor.fetchone()\n",
    "    grasp_id = [fetch[0]]\n",
    "    grasp_url = [fetch[1]]\n",
    "    grasp_way = [fetch[2]]\n",
    "    content_type = [fetch[3]]\n",
    "    keywords = [fetch[4]]\n",
    "    inteval = [fetch[5]]\n",
    "    loop_type = [fetch[6]]\n",
    "    runtime = [fetch[7].strftime(\"%Y-%m-%d %H:%M:%S\")]\n",
    "    grasp_depth = [fetch[8]]\n",
    "    list1 = grasp_id + grasp_url + grasp_way + content_type + keywords + inteval + loop_type + runtime + grasp_depth\n",
    "    print(list1)\n",
    "    print(inteval)\n",
    "    print(loop_type)\n",
    "    print(type(runtime[0]))"
   ]
  },
  {
   "cell_type": "code",
   "execution_count": 2,
   "metadata": {},
   "outputs": [
    {
     "data": {
      "text/plain": [
       "13"
      ]
     },
     "execution_count": 2,
     "metadata": {},
     "output_type": "execute_result"
    }
   ],
   "source": [
    "import pymysql\n",
    "connect = pymysql.connect(\n",
    "                host='localhost',\n",
    "                port=3306,\n",
    "                user='root',\n",
    "                passwd='990514',\n",
    "                db='resource-library',\n",
    "                charset='utf8',\n",
    "                use_unicode=True)\n",
    "                # 通过cursor执行增删查改\n",
    "cursor = connect.cursor()\n",
    "cursor.execute(\"\"\"\n",
    "    select max(grasp_id) from grasp_setting_info;\n",
    "\"\"\")\n",
    "connect.commit()\n",
    "max_id = cursor.fetchone()\n",
    "max_id[0]"
   ]
  },
  {
   "cell_type": "code",
   "execution_count": 3,
   "metadata": {},
   "outputs": [
    {
     "name": "stdout",
     "output_type": "stream",
     "text": [
      "<class 'str'>\n",
      "False\n"
     ]
    },
    {
     "data": {
      "text/plain": [
       "'5.26-27'"
      ]
     },
     "execution_count": 3,
     "metadata": {},
     "output_type": "execute_result"
    }
   ],
   "source": [
    "import pymysql\n",
    "connect = pymysql.connect(\n",
    "                host='localhost',\n",
    "                port=3306,\n",
    "                user='root',\n",
    "                passwd='990514',\n",
    "                db='resource-library',\n",
    "                charset='utf8',\n",
    "                use_unicode=True)\n",
    "                # 通过cursor执行增删查改\n",
    "cursor = connect.cursor()\n",
    "id_ = 1\n",
    "cursor.execute(\"\"\"\n",
    "                    select * from grasp_setting_info where grasp_id = {id};\n",
    "                \"\"\".format(id = id_))\n",
    "connect.commit()\n",
    "fetch = cursor.fetchone()\n",
    "\n",
    "grasp_id = [fetch[0]]\n",
    "grasp_url= [fetch[1]]\n",
    "grasp_way= [fetch[2]]\n",
    "content_type= [fetch[3]]\n",
    "runtime=[fetch[4]]\n",
    "grasp_depth= [fetch[5]]\n",
    "settings_list = grasp_id +grasp_url+grasp_way+content_type+runtime+grasp_depth\n",
    "\n",
    "\n",
    "import os\n",
    "dir ='.'\n",
    "list_dir = os.listdir(dir)\n",
    "keywords = ['地震', '512', '地震科普', '地震资源']\n",
    "print(type(settings_list[3]))\n",
    "if '{keyword}.{file}'.format(keyword=keywords[0], file=settings_list[3]) not in list_dir:\n",
    "    print(True)\n",
    "    print(settings_list[3])\n",
    "    print(keywords[0])\n",
    "else:\n",
    "    print(False)\n",
    "list_dir\n",
    "'{keyword}'.format(keyword='5.26-27')"
   ]
  },
  {
   "cell_type": "code",
   "execution_count": 4,
   "metadata": {},
   "outputs": [
    {
     "ename": "ValueError",
     "evalue": "Selector needs either text or root argument",
     "output_type": "error",
     "traceback": [
      "\u001b[1;31m---------------------------------------------------------------------------\u001b[0m",
      "\u001b[1;31mValueError\u001b[0m                                Traceback (most recent call last)",
      "\u001b[1;32m<ipython-input-4-29a1cad3f988>\u001b[0m in \u001b[0;36m<module>\u001b[1;34m()\u001b[0m\n\u001b[0;32m      4\u001b[0m \u001b[0murl\u001b[0m \u001b[1;33m=\u001b[0m \u001b[1;34m\"https://www.baidu.com/s?word=地震\"\u001b[0m\u001b[1;33m\u001b[0m\u001b[0m\n\u001b[0;32m      5\u001b[0m \u001b[1;33m\u001b[0m\u001b[0m\n\u001b[1;32m----> 6\u001b[1;33m \u001b[0mrsp\u001b[0m \u001b[1;33m=\u001b[0m \u001b[0mSelector\u001b[0m\u001b[1;33m(\u001b[0m\u001b[1;33m)\u001b[0m\u001b[1;33m\u001b[0m\u001b[0m\n\u001b[0m",
      "\u001b[1;32mD:\\Users\\53585\\Anaconda3\\lib\\site-packages\\scrapy\\selector\\unified.py\u001b[0m in \u001b[0;36m__init__\u001b[1;34m(self, response, text, type, root, _root, **kwargs)\u001b[0m\n\u001b[0;32m     69\u001b[0m \u001b[1;33m\u001b[0m\u001b[0m\n\u001b[0;32m     70\u001b[0m         \u001b[0mself\u001b[0m\u001b[1;33m.\u001b[0m\u001b[0mresponse\u001b[0m \u001b[1;33m=\u001b[0m \u001b[0mresponse\u001b[0m\u001b[1;33m\u001b[0m\u001b[0m\n\u001b[1;32m---> 71\u001b[1;33m         \u001b[0msuper\u001b[0m\u001b[1;33m(\u001b[0m\u001b[0mSelector\u001b[0m\u001b[1;33m,\u001b[0m \u001b[0mself\u001b[0m\u001b[1;33m)\u001b[0m\u001b[1;33m.\u001b[0m\u001b[0m__init__\u001b[0m\u001b[1;33m(\u001b[0m\u001b[0mtext\u001b[0m\u001b[1;33m=\u001b[0m\u001b[0mtext\u001b[0m\u001b[1;33m,\u001b[0m \u001b[0mtype\u001b[0m\u001b[1;33m=\u001b[0m\u001b[0mst\u001b[0m\u001b[1;33m,\u001b[0m \u001b[0mroot\u001b[0m\u001b[1;33m=\u001b[0m\u001b[0mroot\u001b[0m\u001b[1;33m,\u001b[0m \u001b[1;33m**\u001b[0m\u001b[0mkwargs\u001b[0m\u001b[1;33m)\u001b[0m\u001b[1;33m\u001b[0m\u001b[0m\n\u001b[0m\u001b[0;32m     72\u001b[0m \u001b[1;33m\u001b[0m\u001b[0m\n\u001b[0;32m     73\u001b[0m     \u001b[1;31m# Deprecated api\u001b[0m\u001b[1;33m\u001b[0m\u001b[1;33m\u001b[0m\u001b[0m\n",
      "\u001b[1;32mD:\\Users\\53585\\Anaconda3\\lib\\site-packages\\parsel\\selector.py\u001b[0m in \u001b[0;36m__init__\u001b[1;34m(self, text, type, namespaces, root, base_url, _expr)\u001b[0m\n\u001b[0;32m    193\u001b[0m             \u001b[0mroot\u001b[0m \u001b[1;33m=\u001b[0m \u001b[0mself\u001b[0m\u001b[1;33m.\u001b[0m\u001b[0m_get_root\u001b[0m\u001b[1;33m(\u001b[0m\u001b[0mtext\u001b[0m\u001b[1;33m,\u001b[0m \u001b[0mbase_url\u001b[0m\u001b[1;33m)\u001b[0m\u001b[1;33m\u001b[0m\u001b[0m\n\u001b[0;32m    194\u001b[0m         \u001b[1;32melif\u001b[0m \u001b[0mroot\u001b[0m \u001b[1;32mis\u001b[0m \u001b[1;32mNone\u001b[0m\u001b[1;33m:\u001b[0m\u001b[1;33m\u001b[0m\u001b[0m\n\u001b[1;32m--> 195\u001b[1;33m             \u001b[1;32mraise\u001b[0m \u001b[0mValueError\u001b[0m\u001b[1;33m(\u001b[0m\u001b[1;34m\"Selector needs either text or root argument\"\u001b[0m\u001b[1;33m)\u001b[0m\u001b[1;33m\u001b[0m\u001b[0m\n\u001b[0m\u001b[0;32m    196\u001b[0m \u001b[1;33m\u001b[0m\u001b[0m\n\u001b[0;32m    197\u001b[0m         \u001b[0mself\u001b[0m\u001b[1;33m.\u001b[0m\u001b[0mnamespaces\u001b[0m \u001b[1;33m=\u001b[0m \u001b[0mdict\u001b[0m\u001b[1;33m(\u001b[0m\u001b[0mself\u001b[0m\u001b[1;33m.\u001b[0m\u001b[0m_default_namespaces\u001b[0m\u001b[1;33m)\u001b[0m\u001b[1;33m\u001b[0m\u001b[0m\n",
      "\u001b[1;31mValueError\u001b[0m: Selector needs either text or root argument"
     ]
    }
   ],
   "source": [
    "import scrapy\n",
    "from scrapy import Selector\n",
    "\n",
    "url = \"https://www.baidu.com/s?word=地震\"\n",
    "\n",
    "rsp = Selector()\n"
   ]
  },
  {
   "cell_type": "code",
   "execution_count": null,
   "metadata": {
    "collapsed": true,
    "jupyter": {
     "outputs_hidden": true
    }
   },
   "outputs": [],
   "source": [
    "\n",
    "list1 = ['apple']\n",
    "print(str(list1))\n",
    "str1  = 'banana'\n",
    "list2 = [str(list1) + str1]"
   ]
  },
  {
   "cell_type": "code",
   "execution_count": 2,
   "metadata": {},
   "outputs": [
    {
     "data": {
      "text/plain": [
       "[\"['apple']banana\"]"
      ]
     },
     "execution_count": 2,
     "metadata": {},
     "output_type": "execute_result"
    }
   ],
   "source": [
    "list2"
   ]
  },
  {
   "cell_type": "code",
   "execution_count": 4,
   "metadata": {},
   "outputs": [
    {
     "data": {
      "text/plain": [
       "'scrapy.pdf'"
      ]
     },
     "execution_count": 4,
     "metadata": {},
     "output_type": "execute_result"
    }
   ],
   "source": [
    "from scrapy.loader.processors import Join\n",
    "file_name = Join()(['scrapy', '.' , 'pdf'])\n",
    "file_name.replace(' ','')"
   ]
  },
  {
   "cell_type": "code",
   "execution_count": 8,
   "metadata": {
    "collapsed": true,
    "jupyter": {
     "outputs_hidden": true
    }
   },
   "outputs": [],
   "source": [
    "title = 'martin'.\n",
    "title.join?"
   ]
  },
  {
   "cell_type": "code",
   "execution_count": 2,
   "metadata": {},
   "outputs": [
    {
     "data": {
      "text/plain": [
       "'sjkabgs'"
      ]
     },
     "execution_count": 2,
     "metadata": {},
     "output_type": "execute_result"
    }
   ],
   "source": [
    "s = 'asgbakjsgajs'\n",
    "s[1:8][::-1]"
   ]
  },
  {
   "cell_type": "code",
   "execution_count": 3,
   "metadata": {},
   "outputs": [],
   "source": [
    "str1 = \"[{'name': '刘莉', 'desc': '2013.8月刘莉同志调入西安路小学校任校长、书记后，非常重视生态环保教育，与行政和老师们一起，积极创新环保生态教育，丰富、深化了“生态立美”的办学理念。在短短的几年的时间，把学校的生态环境教育提升到了一个新平台。形成了“西小四态”课程体系和“西小简约生活方式”，梳理出学校环保教育的三大育人模式：生态德育、生态教学和生态管理；组织教师、学生、家长志愿者，大手牵小手，积极参与到生态环保教育中来；组织教师编写了校本教材《苗苗朵朵爱地球》，《花西》生物多样性校本课程……', 'photo': '/public/uploads/person/15130919760.jpg'}]\""
   ]
  },
  {
   "cell_type": "code",
   "execution_count": 4,
   "metadata": {},
   "outputs": [
    {
     "data": {
      "text/plain": [
       "\"[{'name': '刘莉', 'desc': '2013.8月刘莉同志调入西安路小学校任校长、书记后，非常重视生态环保教育，与行政和老师们一起，积极创新环保生态教育，丰富、深化了“生态立美”的办学理念。在短短的几年的时间，把学校的生态环境教育提升到了一个新平台。形成了“西小四态”课程体系和“西小简约生活方式”，梳理出学校环保教育的三大育人模式：生态德育、生态教学和生态管理；组织教师、学生、家长志愿者，大手牵小手，积极参与到生态环保教育中来；组织教师编写了校本教材《苗苗朵朵爱地球》，《花西》生物多样性校本课程……', 'photo': '/public/uploads/person/15130919760.jpg'}]\""
      ]
     },
     "execution_count": 4,
     "metadata": {},
     "output_type": "execute_result"
    }
   ],
   "source": [
    "str1"
   ]
  },
  {
   "cell_type": "code",
   "execution_count": 89,
   "metadata": {},
   "outputs": [],
   "source": [
    "str2 = \"[{'name': '张丽君', 'desc': '从事环境教育二十多年，在一茬又一茬小学生心中播撒下绿色的种子。', 'photo': '/public/uploads/teachers/15130906890.jpg'}, {'name': '何玲', 'desc': '公益自然讲解员，环保自愿者。长期带领学生认识自然，探索自然，感受自然的美好与神奇。', 'photo': '/public/uploads/teachers/15130906891.jpg'}, {'name': '蔡茸', 'desc': '热爱和激情是环境教育最好的态度。', 'photo': '/public/uploads/teachers/15130906892.jpg'}, {'name': '季建琼', 'desc': '蓝天白云，清新的空气……尽我的全力，播撒环保种子，只为自己和后代拥有友好环境！', 'photo': '/public/uploads/teachers/15130906893.jpg'}, {'name': '吴瑞帼', 'desc': '国家少工委授予“全国特色小队优秀辅导员”、四川美景行动优秀辅导员。2004年开始投入环保特色教学工作。', 'photo': '/public/uploads/teachers/15130906894.jpg'}, {'name': '黄玥', 'desc': '环保，已经是教育的一部分，更是生活的一部分！我们要做的，就是让孩子们成为生活中的环保小使者！', 'photo': '/public/uploads/teachers/15130906895.jpg'}, {'name': '马海燕', 'desc': '二十六年来用自己的行动和学生一起打开蓝天的窗，扣开青山的门，走进环保世界，共享美好的人生！', 'photo': '/public/uploads/teachers/15130906896.jpg'}, {'name': '张雅姝', 'desc': '我教娃娃爱地球；地球回馈好娃娃！', 'photo': '/public/uploads/teachers/15130906897.jpg'}, {'name': '丁梅', 'desc': '与自然重建和谐，与地球重修旧好！', 'photo': '/public/uploads/teachers/15130906898.jpg'}, {'name': '金霞', 'desc': '环保自愿者。敏感细腻，心灵手巧，勤于观察，善于发现，总是能以独到的视角找到自然的美丽。\\r\\n', 'photo': '/public/uploads/teachers/15130906899.jpg'}, {'name': '钱玲', 'desc': '从教十五年来，以身践行环保，以行感染学生。', 'photo': '/public/uploads/teachers/151309068910.jpg'}, {'name': '马炜娜', 'desc': '愿与孩子们一起拥抱大自然、呵护大自然，为我们大自然的美献出自己的一份爱！', 'photo': '/public/uploads/teachers/151309068911.jpg'}]\""
   ]
  },
  {
   "cell_type": "code",
   "execution_count": 92,
   "metadata": {},
   "outputs": [
    {
     "ename": "SyntaxError",
     "evalue": "invalid syntax (<ipython-input-92-5bb1dc224746>, line 1)",
     "output_type": "error",
     "traceback": [
      "\u001b[1;36m  File \u001b[1;32m\"<ipython-input-92-5bb1dc224746>\"\u001b[1;36m, line \u001b[1;32m1\u001b[0m\n\u001b[1;33m    r'%s'.%(str2)\u001b[0m\n\u001b[1;37m          ^\u001b[0m\n\u001b[1;31mSyntaxError\u001b[0m\u001b[1;31m:\u001b[0m invalid syntax\n"
     ]
    }
   ],
   "source": [
    "r'%s'.%(str2)"
   ]
  },
  {
   "cell_type": "code",
   "execution_count": 17,
   "metadata": {},
   "outputs": [],
   "source": [
    "str_desc=\"[{'desc_image_title': '3', 'desc_image': '/Public/uploads/images/2017/12/20171205213311118.png'}, {'desc_image_title': '5', 'desc_image': '/Public/uploads/images/2017/12/20171205213312111.jpg'}]\""
   ]
  },
  {
   "cell_type": "code",
   "execution_count": 22,
   "metadata": {},
   "outputs": [
    {
     "data": {
      "text/plain": [
       "\"[{'desc_image_title': '3', 'desc_image': '/Public/uploads/images/2018/01/20180109134553120.jpg'}, {'desc_image_title': '4', 'desc_image': '/Public/uploads/images/2018/01/20180109134556140.jpg'}, {'desc_image_title': '20180109134552155', 'desc_image': '/Public/uploads/images/2018/04/20180416095725195.jpg'}]\""
      ]
     },
     "execution_count": 22,
     "metadata": {},
     "output_type": "execute_result"
    }
   ],
   "source": [
    "str_desc = \"[{'desc_image_title': '3', 'desc_image': '/Public/uploads/images/2018/01/20180109134553120.jpg'}, {'desc_image_title': '4', 'desc_image': '/Public/uploads/images/2018/01/20180109134556140.jpg'}, {'desc_image_title': '20180109134552155', 'desc_image': '/Public/uploads/images/2018/04/20180416095725195.jpg'}]\"\n",
    "import re\n",
    "str_desc"
   ]
  },
  {
   "cell_type": "code",
   "execution_count": 21,
   "metadata": {},
   "outputs": [
    {
     "data": {
      "text/plain": [
       "\"[{'desc_image_title': '3', http://47.113.99.76:200'desc_image': '/Public/uploads/images/2018/01/20180109134553120.jpg'}, {'desc_image_title': '4', 'desc_image': '/Public/uploads/images/2018/01/20180109134556140.jpg'}, {'desc_image_title': '20180109134552155', 'desc_image': '/Public/uploads/images/2018/04/20180416095725195.jpg'}]\""
      ]
     },
     "execution_count": 21,
     "metadata": {},
     "output_type": "execute_result"
    }
   ],
   "source": [
    "pat = r\"'desc_image': '/Public(.*)}\"\n",
    "ret = re.search(pat,str_desc)\n",
    "\n",
    "str3 = 'http://47.113.99.76:200' + ret.group(0)\n",
    "str_desc = re.sub(pat,str3,str_desc)\n",
    "str_desc\n",
    "\n",
    "\n"
   ]
  },
  {
   "cell_type": "code",
   "execution_count": 30,
   "metadata": {},
   "outputs": [],
   "source": [
    "dict_desc = eval(str_desc)\n",
    "for d in dict_desc:\n",
    "    d['desc_image'] = 'http://47.113.99.76:200'+ d['desc_image']"
   ]
  },
  {
   "cell_type": "code",
   "execution_count": 31,
   "metadata": {},
   "outputs": [
    {
     "data": {
      "text/plain": [
       "[{'desc_image_title': '3',\n",
       "  'desc_image': 'http://47.113.99.76:200/Public/uploads/images/2018/01/20180109134553120.jpg'},\n",
       " {'desc_image_title': '4',\n",
       "  'desc_image': 'http://47.113.99.76:200/Public/uploads/images/2018/01/20180109134556140.jpg'},\n",
       " {'desc_image_title': '20180109134552155',\n",
       "  'desc_image': 'http://47.113.99.76:200/Public/uploads/images/2018/04/20180416095725195.jpg'}]"
      ]
     },
     "execution_count": 31,
     "metadata": {},
     "output_type": "execute_result"
    }
   ],
   "source": [
    "dict_desc"
   ]
  },
  {
   "cell_type": "code",
   "execution_count": 88,
   "metadata": {},
   "outputs": [
    {
     "data": {
      "text/plain": [
       "'\"[{\\'name\\': \\'\\\\u5218\\\\u8389\\', \\'desc\\': \\'2013.8\\\\u6708\\\\u5218\\\\u8389\\\\u540c\\\\u5fd7\\\\u8c03\\\\u5165\\\\u897f\\\\u5b89\\\\u8def\\\\u5c0f\\\\u5b66\\\\u6821\\\\u4efb\\\\u6821\\\\u957f\\\\u3001\\\\u4e66\\\\u8bb0\\\\u540e\\\\uff0c\\\\u975e\\\\u5e38\\\\u91cd\\\\u89c6\\\\u751f\\\\u6001\\\\u73af\\\\u4fdd\\\\u6559\\\\u80b2\\\\uff0c\\\\u4e0e\\\\u884c\\\\u653f\\\\u548c\\\\u8001\\\\u5e08\\\\u4eec\\\\u4e00\\\\u8d77\\\\uff0c\\\\u79ef\\\\u6781\\\\u521b\\\\u65b0\\\\u73af\\\\u4fdd\\\\u751f\\\\u6001\\\\u6559\\\\u80b2\\\\uff0c\\\\u4e30\\\\u5bcc\\\\u3001\\\\u6df1\\\\u5316\\\\u4e86\\\\u201c\\\\u751f\\\\u6001\\\\u7acb\\\\u7f8e\\\\u201d\\\\u7684\\\\u529e\\\\u5b66\\\\u7406\\\\u5ff5\\\\u3002\\\\u5728\\\\u77ed\\\\u77ed\\\\u7684\\\\u51e0\\\\u5e74\\\\u7684\\\\u65f6\\\\u95f4\\\\uff0c\\\\u628a\\\\u5b66\\\\u6821\\\\u7684\\\\u751f\\\\u6001\\\\u73af\\\\u5883\\\\u6559\\\\u80b2\\\\u63d0\\\\u5347\\\\u5230\\\\u4e86\\\\u4e00\\\\u4e2a\\\\u65b0\\\\u5e73\\\\u53f0\\\\u3002\\\\u5f62\\\\u6210\\\\u4e86\\\\u201c\\\\u897f\\\\u5c0f\\\\u56db\\\\u6001\\\\u201d\\\\u8bfe\\\\u7a0b\\\\u4f53\\\\u7cfb\\\\u548c\\\\u201c\\\\u897f\\\\u5c0f\\\\u7b80\\\\u7ea6\\\\u751f\\\\u6d3b\\\\u65b9\\\\u5f0f\\\\u201d\\\\uff0c\\\\u68b3\\\\u7406\\\\u51fa\\\\u5b66\\\\u6821\\\\u73af\\\\u4fdd\\\\u6559\\\\u80b2\\\\u7684\\\\u4e09\\\\u5927\\\\u80b2\\\\u4eba\\\\u6a21\\\\u5f0f\\\\uff1a\\\\u751f\\\\u6001\\\\u5fb7\\\\u80b2\\\\u3001\\\\u751f\\\\u6001\\\\u6559\\\\u5b66\\\\u548c\\\\u751f\\\\u6001\\\\u7ba1\\\\u7406\\\\uff1b\\\\u7ec4\\\\u7ec7\\\\u6559\\\\u5e08\\\\u3001\\\\u5b66\\\\u751f\\\\u3001\\\\u5bb6\\\\u957f\\\\u5fd7\\\\u613f\\\\u8005\\\\uff0c\\\\u5927\\\\u624b\\\\u7275\\\\u5c0f\\\\u624b\\\\uff0c\\\\u79ef\\\\u6781\\\\u53c2\\\\u4e0e\\\\u5230\\\\u751f\\\\u6001\\\\u73af\\\\u4fdd\\\\u6559\\\\u80b2\\\\u4e2d\\\\u6765\\\\uff1b\\\\u7ec4\\\\u7ec7\\\\u6559\\\\u5e08\\\\u7f16\\\\u5199\\\\u4e86\\\\u6821\\\\u672c\\\\u6559\\\\u6750\\\\u300a\\\\u82d7\\\\u82d7\\\\u6735\\\\u6735\\\\u7231\\\\u5730\\\\u7403\\\\u300b\\\\uff0c\\\\u300a\\\\u82b1\\\\u897f\\\\u300b\\\\u751f\\\\u7269\\\\u591a\\\\u6837\\\\u6027\\\\u6821\\\\u672c\\\\u8bfe\\\\u7a0b\\\\u2026\\\\u2026\\', \\'photo\\': \\'/public/uploads/person/15130919760.jpg\\'}]\"'"
      ]
     },
     "execution_count": 88,
     "metadata": {},
     "output_type": "execute_result"
    }
   ],
   "source": [
    "import json\n",
    "json.dumps(str1)\n"
   ]
  },
  {
   "cell_type": "code",
   "execution_count": 34,
   "metadata": {},
   "outputs": [],
   "source": [
    "tchr = eval(str1)"
   ]
  },
  {
   "cell_type": "code",
   "execution_count": 36,
   "metadata": {},
   "outputs": [],
   "source": [
    "for t in tchr:\n",
    "    t['photo'] = 'http://47.113.99.76:200' + t['photo']"
   ]
  },
  {
   "cell_type": "code",
   "execution_count": 37,
   "metadata": {},
   "outputs": [
    {
     "data": {
      "text/plain": [
       "[{'name': '刘莉',\n",
       "  'desc': '2013.8月刘莉同志调入西安路小学校任校长、书记后，非常重视生态环保教育，与行政和老师们一起，积极创新环保生态教育，丰富、深化了“生态立美”的办学理念。在短短的几年的时间，把学校的生态环境教育提升到了一个新平台。形成了“西小四态”课程体系和“西小简约生活方式”，梳理出学校环保教育的三大育人模式：生态德育、生态教学和生态管理；组织教师、学生、家长志愿者，大手牵小手，积极参与到生态环保教育中来；组织教师编写了校本教材《苗苗朵朵爱地球》，《花西》生物多样性校本课程……',\n",
       "  'photo': 'http://47.113.99.76:200/public/uploads/person/15130919760.jpg'}]"
      ]
     },
     "execution_count": 37,
     "metadata": {},
     "output_type": "execute_result"
    }
   ],
   "source": [
    "tchr"
   ]
  },
  {
   "cell_type": "code",
   "execution_count": 40,
   "metadata": {},
   "outputs": [
    {
     "data": {
      "text/plain": [
       "\"[{'name': '张丽君', 'desc': '从事环境教育二十多年，在一茬又一茬小学生心中播撒下绿色的种子。', 'photo': '/public/uploads/teachers/15130906890.jpg'}, {'name': '何玲', 'desc': '公益自然讲解员，环保自愿者。长期带领学生认识自然，探索自然，感受自然的美好与神奇。', 'photo': '/public/uploads/teachers/15130906891.jpg'}, {'name': '蔡茸', 'desc': '热爱和激情是环境教育最好的态度。', 'photo': '/public/uploads/teachers/15130906892.jpg'}, {'name': '季建琼', 'desc': '蓝天白云，清新的空气……尽我的全力，播撒环保种子，只为自己和后代拥有友好环境！', 'photo': '/public/uploads/teachers/15130906893.jpg'}, {'name': '吴瑞帼', 'desc': '国家少工委授予“全国特色小队优秀辅导员”、四川美景行动优秀辅导员。2004年开始投入环保特色教学工作。', 'photo': '/public/uploads/teachers/15130906894.jpg'}, {'name': '黄玥', 'desc': '环保，已经是教育的一部分，更是生活的一部分！我们要做的，就是让孩子们成为生活中的环保小使者！', 'photo': '/public/uploads/teachers/15130906895.jpg'}, {'name': '马海燕', 'desc': '二十六年来用自己的行动和学生一起打开蓝天的窗，扣开青山的门，走进环保世界，共享美好的人生！', 'photo': '/public/uploads/teachers/15130906896.jpg'}, {'name': '张雅姝', 'desc': '我教娃娃爱地球；地球回馈好娃娃！', 'photo': '/public/uploads/teachers/15130906897.jpg'}, {'name': '丁梅', 'desc': '与自然重建和谐，与地球重修旧好！', 'photo': '/public/uploads/teachers/15130906898.jpg'}, {'name': '金霞', 'desc': '环保自愿者。敏感细腻，心灵手巧，勤于观察，善于发现，总是能以独到的视角找到自然的美丽。\\r\\n', 'photo': '/public/uploads/teachers/15130906899.jpg'}, {'name': '钱玲', 'desc': '从教十五年来，以身践行环保，以行感染学生。', 'photo': '/public/uploads/teachers/151309068910.jpg'}, {'name': '马炜娜', 'desc': '愿与孩子们一起拥抱大自然、呵护大自然，为我们大自然的美献出自己的一份爱！', 'photo': '/public/uploads/teachers/151309068911.jpg'}]\""
      ]
     },
     "execution_count": 40,
     "metadata": {},
     "output_type": "execute_result"
    }
   ],
   "source": [
    "str2"
   ]
  },
  {
   "cell_type": "code",
   "execution_count": 45,
   "metadata": {},
   "outputs": [
    {
     "ename": "SyntaxError",
     "evalue": "EOL while scanning string literal (<string>, line 1)",
     "output_type": "error",
     "traceback": [
      "Traceback \u001b[1;36m(most recent call last)\u001b[0m:\n",
      "  File \u001b[0;32m\"d:\\Users\\53585\\Anaconda3\\envs\\py36\\lib\\site-packages\\IPython\\core\\interactiveshell.py\"\u001b[0m, line \u001b[0;32m3343\u001b[0m, in \u001b[0;35mrun_code\u001b[0m\n    exec(code_obj, self.user_global_ns, self.user_ns)\n",
      "\u001b[1;36m  File \u001b[1;32m\"<ipython-input-45-d0abf8acb319>\"\u001b[1;36m, line \u001b[1;32m1\u001b[1;36m, in \u001b[1;35m<module>\u001b[1;36m\u001b[0m\n\u001b[1;33m    eval(str2)\u001b[0m\n",
      "\u001b[1;36m  File \u001b[1;32m\"<string>\"\u001b[1;36m, line \u001b[1;32m1\u001b[0m\n\u001b[1;33m    [{'name': '张丽君', 'desc': '从事环境教育二十多年，在一茬又一茬小学生心中播撒下绿色的种子。', 'photo': '/public/uploads/teachers/15130906890.jpg'}, {'name': '何玲', 'desc': '公益自然讲解员，环保自愿者。长期带领学生认识自然，探索自然，感受自然的美好与神奇。', 'photo': '/public/uploads/teachers/15130906891.jpg'}, {'name': '蔡茸', 'desc': '热爱和激情是环境教育最好的态度。', 'photo': '/public/uploads/teachers/15130906892.jpg'}, {'name': '季建琼', 'desc': '蓝天白云，清新的空气……尽我的全力，播撒环保种子，只为自己和后代拥有友好环境！', 'photo': '/public/uploads/teachers/15130906893.jpg'}, {'name': '吴瑞帼', 'desc': '国家少工委授予“全国特色小队优秀辅导员”、四川美景行动优秀辅导员。2004年开始投入环保特色教学工作。', 'photo': '/public/uploads/teachers/15130906894.jpg'}, {'name': '黄玥', 'desc': '环保，已经是教育的一部分，更是生活的一部分！我们要做的，就是让孩子们成为生活中的环保小使者！', 'photo': '/public/uploads/teachers/15130906895.jpg'}, {'name': '马海燕', 'desc': '二十六年来用自己的行动和学生一起打开蓝天的窗，扣开青山的门，走进环保世界，共享美好的人生！', 'photo': '/public/uploads/teachers/15130906896.jpg'}, {'name': '张雅姝', 'desc': '我教娃娃爱地球；地球回馈好娃娃！', 'photo': '/public/uploads/teachers/15130906897.jpg'}, {'name': '丁梅', 'desc': '与自然重建和谐，与地球重修旧好！', 'photo': '/public/uploads/teachers/15130906898.jpg'}, {'name': '金霞', 'desc': '环保自愿者。敏感细腻，心灵手巧，勤于观察，善于发现，总是能以独到的视角找到自然的美丽。\u001b[0m\n\u001b[1;37m                                                                                                                                                                                                                                                                                                                                                                                                                                                                                                                                                                                                                                                                                                                                                                                                                                                                                                                                                                                                                                                                                                                                                   ^\u001b[0m\n\u001b[1;31mSyntaxError\u001b[0m\u001b[1;31m:\u001b[0m EOL while scanning string literal\n"
     ]
    }
   ],
   "source": [
    "eval(str2)"
   ]
  },
  {
   "cell_type": "code",
   "execution_count": 46,
   "metadata": {},
   "outputs": [],
   "source": [
    "str2 = \"[{'name': '胡渊', 'desc': '小学一级教师，本科毕业，副校长。', 'photo': '/public/uploads/person/15129928810.jpg'}]\""
   ]
  },
  {
   "cell_type": "code",
   "execution_count": 47,
   "metadata": {},
   "outputs": [
    {
     "data": {
      "text/plain": [
       "[{'name': '胡渊',\n",
       "  'desc': '小学一级教师，本科毕业，副校长。',\n",
       "  'photo': '/public/uploads/person/15129928810.jpg'}]"
      ]
     },
     "execution_count": 47,
     "metadata": {},
     "output_type": "execute_result"
    }
   ],
   "source": [
    "eval(str2)"
   ]
  },
  {
   "cell_type": "code",
   "execution_count": 75,
   "metadata": {},
   "outputs": [],
   "source": [
    "str2 = \"[{'name': '何玲', 'desc': '公益自然讲解员，环保自愿者。长期带领学生认识自然，探索自然，感受自然的美好与神奇。', 'photo': '/public/uploads/teachers/15130906891.jpg'}, {'name': '蔡茸', 'desc': '热爱和激情是环境教育最好的态度。', 'photo': '/public/uploads/teachers/15130906892.jpg'}, {'name': '季建琼', 'desc': '蓝天白云，清新的空气……尽我的全力，播撒环保种子，只为自己和后代拥有友好环境！', 'photo': '/public/uploads/teachers/15130906893.jpg'}, {'name': '吴瑞帼', 'desc': '国家少工委授予“全国特色小队优秀辅导员”、四川美景行动优秀辅导员。2004年开始投入环保特色教学工作。', 'photo': '/public/uploads/teachers/15130906894.jpg'}, {'name': '黄玥', 'desc': '环保，已经是教育的一部分，更是生活的一部分！我们要做的，就是让孩子们成为生活中的环保小使者！', 'photo': '/public/uploads/teachers/15130906895.jpg'}, {'name': '马海燕', 'desc': '二十六年来用自己的行动和学生一起打开蓝天的窗，扣开青山的门，走进环保世界，共享美好的人生！', 'photo': '/public/uploads/teachers/15130906896.jpg'}, {'name': '张雅姝', 'desc': '我教娃娃爱地球；地球回馈好娃娃！', 'photo': '/public/uploads/teachers/15130906897.jpg'}, {'name': '丁梅', 'desc': '与自然重建和谐，与地球重修旧好！', 'photo': '/public/uploads/teachers/15130906898.jpg'}, {'name': '金霞', 'desc': '环保自愿者。敏感细腻，心灵手巧，勤于观察，善于发现，总是能以独到的视角找到自然的美丽。\\r\\n', 'photo': '/public/uploads/teachers/15130906899.jpg'}, {'name': '钱玲', 'desc': '从教十五年来，以身践行环保，以行感染学生。', 'photo': '/public/uploads/teachers/151309068910.jpg'}, {'name': '马炜娜', 'desc': '愿与孩子们一起拥抱大自然、呵护大自然，为我们大自然的美献出自己的一份爱！', 'photo': '/public/uploads/teachers/151309068911.jpg'}]\""
   ]
  },
  {
   "cell_type": "code",
   "execution_count": null,
   "metadata": {},
   "outputs": [],
   "source": []
  },
  {
   "cell_type": "code",
   "execution_count": 76,
   "metadata": {},
   "outputs": [
    {
     "data": {
      "text/plain": [
       "\"[{'name': '何玲', 'desc': '公益自然讲解员，环保自愿者。长期带领学生认识自然，探索自然，感受自然的美好与神奇。', 'photo': '/public/uploads/teachers/15130906891.jpg'}, {'name': '蔡茸', 'desc': '热爱和激情是环境教育最好的态度。', 'photo': '/public/uploads/teachers/15130906892.jpg'}, {'name': '季建琼', 'desc': '蓝天白云，清新的空气……尽我的全力，播撒环保种子，只为自己和后代拥有友好环境！', 'photo': '/public/uploads/teachers/15130906893.jpg'}, {'name': '吴瑞帼', 'desc': '国家少工委授予“全国特色小队优秀辅导员”、四川美景行动优秀辅导员。2004年开始投入环保特色教学工作。', 'photo': '/public/uploads/teachers/15130906894.jpg'}, {'name': '黄玥', 'desc': '环保，已经是教育的一部分，更是生活的一部分！我们要做的，就是让孩子们成为生活中的环保小使者！', 'photo': '/public/uploads/teachers/15130906895.jpg'}, {'name': '马海燕', 'desc': '二十六年来用自己的行动和学生一起打开蓝天的窗，扣开青山的门，走进环保世界，共享美好的人生！', 'photo': '/public/uploads/teachers/15130906896.jpg'}, {'name': '张雅姝', 'desc': '我教娃娃爱地球；地球回馈好娃娃！', 'photo': '/public/uploads/teachers/15130906897.jpg'}, {'name': '丁梅', 'desc': '与自然重建和谐，与地球重修旧好！', 'photo': '/public/uploads/teachers/15130906898.jpg'}, {'name': '金霞', 'desc': '环保自愿者。敏感细腻，心灵手巧，勤于观察，善于发现，总是能以独到的视角找到自然的美丽。\\r\\n', 'photo': '/public/uploads/teachers/15130906899.jpg'}, {'name': '钱玲', 'desc': '从教十五年来，以身践行环保，以行感染学生。', 'photo': '/public/uploads/teachers/151309068910.jpg'}, {'name': '马炜娜', 'desc': '愿与孩子们一起拥抱大自然、呵护大自然，为我们大自然的美献出自己的一份爱！', 'photo': '/public/uploads/teachers/151309068911.jpg'}]\""
      ]
     },
     "execution_count": 76,
     "metadata": {},
     "output_type": "execute_result"
    }
   ],
   "source": [
    "str2"
   ]
  },
  {
   "cell_type": "code",
   "execution_count": 81,
   "metadata": {},
   "outputs": [
    {
     "data": {
      "text/plain": [
       "\"[{'name': '何玲', 'desc': '公益自然讲解员，环保自愿者。长期带领学生认识自然，探索自然，感受自然的美好与神奇。', 'photo': '/public/uploads/teachers/15130906891.jpg'}, {'name': '蔡茸', 'desc': '热爱和激情是环境教育最好的态度。', 'photo': '/public/uploads/teachers/15130906892.jpg'}, {'name': '季建琼', 'desc': '蓝天白云，清新的空气……尽我的全力，播撒环保种子，只为自己和后代拥有友好环境！', 'photo': '/public/uploads/teachers/15130906893.jpg'}, {'name': '吴瑞帼', 'desc': '国家少工委授予“全国特色小队优秀辅导员”、四川美景行动优秀辅导员。2004年开始投入环保特色教学工作。', 'photo': '/public/uploads/teachers/15130906894.jpg'}, {'name': '黄玥', 'desc': '环保，已经是教育的一部分，更是生活的一部分！我们要做的，就是让孩子们成为生活中的环保小使者！', 'photo': '/public/uploads/teachers/15130906895.jpg'}, {'name': '马海燕', 'desc': '二十六年来用自己的行动和学生一起打开蓝天的窗，扣开青山的门，走进环保世界，共享美好的人生！', 'photo': '/public/uploads/teachers/15130906896.jpg'}, {'name': '张雅姝', 'desc': '我教娃娃爱地球；地球回馈好娃娃！', 'photo': '/public/uploads/teachers/15130906897.jpg'}, {'name': '丁梅', 'desc': '与自然重建和谐，与地球重修旧好！', 'photo': '/public/uploads/teachers/15130906898.jpg'}, {'name': '金霞', 'desc': '环保自愿者。敏感细腻，心灵手巧，勤于观察，善于发现，总是能以独到的视角找到自然的美丽。', 'photo': '/public/uploads/teachers/15130906899.jpg'}, {'name': '钱玲', 'desc': '从教十五年来，以身践行环保，以行感染学生。', 'photo': '/public/uploads/teachers/151309068910.jpg'}, {'name': '马炜娜', 'desc': '愿与孩子们一起拥抱大自然、呵护大自然，为我们大自然的美献出自己的一份爱！', 'photo': '/public/uploads/teachers/151309068911.jpg'}]\""
      ]
     },
     "execution_count": 81,
     "metadata": {},
     "output_type": "execute_result"
    }
   ],
   "source": [
    "str2 = str2.replace('\\r', '').replace('\\n', '')\n",
    "str2"
   ]
  },
  {
   "cell_type": "code",
   "execution_count": 62,
   "metadata": {},
   "outputs": [],
   "source": [
    "import ast"
   ]
  },
  {
   "cell_type": "code",
   "execution_count": 83,
   "metadata": {},
   "outputs": [],
   "source": [
    "\n",
    "tchr = ast.literal_eval(str2)"
   ]
  },
  {
   "cell_type": "code",
   "execution_count": 84,
   "metadata": {},
   "outputs": [
    {
     "name": "stdout",
     "output_type": "stream",
     "text": [
      "[{'name': '何玲', 'desc': '公益自然讲解员，环保自愿者。长期带领学生认识自然，探索自然，感受自然的美好与神奇。', 'photo': 'http://47.113.99.76:200/public/uploads/teachers/15130906891.jpg'}, {'name': '蔡茸', 'desc': '热爱和激情是环境教育最好的态度。', 'photo': 'http://47.113.99.76:200/public/uploads/teachers/15130906892.jpg'}, {'name': '季建琼', 'desc': '蓝天白云，清新的空气……尽我的全力，播撒环保种子，只为自己和后代拥有友好环境！', 'photo': 'http://47.113.99.76:200/public/uploads/teachers/15130906893.jpg'}, {'name': '吴瑞帼', 'desc': '国家少工委授予“全国特色小队优秀辅导员”、四川美景行动优秀辅导员。2004年开始投入环保特色教学工作。', 'photo': 'http://47.113.99.76:200/public/uploads/teachers/15130906894.jpg'}, {'name': '黄玥', 'desc': '环保，已经是教育的一部分，更是生活的一部分！我们要做的，就是让孩子们成为生活中的环保小使者！', 'photo': 'http://47.113.99.76:200/public/uploads/teachers/15130906895.jpg'}, {'name': '马海燕', 'desc': '二十六年来用自己的行动和学生一起打开蓝天的窗，扣开青山的门，走进环保世界，共享美好的人生！', 'photo': 'http://47.113.99.76:200/public/uploads/teachers/15130906896.jpg'}, {'name': '张雅姝', 'desc': '我教娃娃爱地球；地球回馈好娃娃！', 'photo': 'http://47.113.99.76:200/public/uploads/teachers/15130906897.jpg'}, {'name': '丁梅', 'desc': '与自然重建和谐，与地球重修旧好！', 'photo': 'http://47.113.99.76:200/public/uploads/teachers/15130906898.jpg'}, {'name': '金霞', 'desc': '环保自愿者。敏感细腻，心灵手巧，勤于观察，善于发现，总是能以独到的视角找到自然的美丽。', 'photo': 'http://47.113.99.76:200/public/uploads/teachers/15130906899.jpg'}, {'name': '钱玲', 'desc': '从教十五年来，以身践行环保，以行感染学生。', 'photo': 'http://47.113.99.76:200/public/uploads/teachers/151309068910.jpg'}, {'name': '马炜娜', 'desc': '愿与孩子们一起拥抱大自然、呵护大自然，为我们大自然的美献出自己的一份爱！', 'photo': 'http://47.113.99.76:200/public/uploads/teachers/151309068911.jpg'}]\n"
     ]
    }
   ],
   "source": [
    "for t in tchr:\n",
    "    t['photo'] = 'http://47.113.99.76:200' + t['photo']\n",
    "print(tchr)"
   ]
  },
  {
   "cell_type": "code",
   "execution_count": 93,
   "metadata": {},
   "outputs": [
    {
     "data": {
      "text/plain": [
       "\"[{'name': '张丽君', 'desc': '从事环境教育二十多年，在一茬又一茬小学生心中播撒下绿色的种子。', 'photo': '/public/uploads/teachers/15130906890.jpg'}, {'name': '何玲', 'desc': '公益自然讲解员，环保自愿者。长期带领学生认识自然，探索自然，感受自然的美好与神奇。', 'photo': '/public/uploads/teachers/15130906891.jpg'}, {'name': '蔡茸', 'desc': '热爱和激情是环境教育最好的态度。', 'photo': '/public/uploads/teachers/15130906892.jpg'}, {'name': '季建琼', 'desc': '蓝天白云，清新的空气……尽我的全力，播撒环保种子，只为自己和后代拥有友好环境！', 'photo': '/public/uploads/teachers/15130906893.jpg'}, {'name': '吴瑞帼', 'desc': '国家少工委授予“全国特色小队优秀辅导员”、四川美景行动优秀辅导员。2004年开始投入环保特色教学工作。', 'photo': '/public/uploads/teachers/15130906894.jpg'}, {'name': '黄玥', 'desc': '环保，已经是教育的一部分，更是生活的一部分！我们要做的，就是让孩子们成为生活中的环保小使者！', 'photo': '/public/uploads/teachers/15130906895.jpg'}, {'name': '马海燕', 'desc': '二十六年来用自己的行动和学生一起打开蓝天的窗，扣开青山的门，走进环保世界，共享美好的人生！', 'photo': '/public/uploads/teachers/15130906896.jpg'}, {'name': '张雅姝', 'desc': '我教娃娃爱地球；地球回馈好娃娃！', 'photo': '/public/uploads/teachers/15130906897.jpg'}, {'name': '丁梅', 'desc': '与自然重建和谐，与地球重修旧好！', 'photo': '/public/uploads/teachers/15130906898.jpg'}, {'name': '金霞', 'desc': '环保自愿者。敏感细腻，心灵手巧，勤于观察，善于发现，总是能以独到的视角找到自然的美丽。\\r\\n', 'photo': '/public/uploads/teachers/15130906899.jpg'}, {'name': '钱玲', 'desc': '从教十五年来，以身践行环保，以行感染学生。', 'photo': '/public/uploads/teachers/151309068910.jpg'}, {'name': '马炜娜', 'desc': '愿与孩子们一起拥抱大自然、呵护大自然，为我们大自然的美献出自己的一份爱！', 'photo': '/public/uploads/teachers/151309068911.jpg'}]\""
      ]
     },
     "execution_count": 93,
     "metadata": {},
     "output_type": "execute_result"
    }
   ],
   "source": [
    "str2"
   ]
  },
  {
   "cell_type": "code",
   "execution_count": 96,
   "metadata": {},
   "outputs": [],
   "source": [
    "def type_conversion(a):\n",
    "    '''\n",
    "    将传入的str类型的list和dict转换为list类型和dict类型\n",
    "    '''\n",
    "    for i in a.keys():\n",
    "        if type(a[i]) == type(''):\n",
    "            if not a[i].isdigit():\n",
    "                try:\n",
    "                    a[i] = ast.literal_eval(a[i])\n",
    "                except Exception as e:\n",
    "                    continue\n",
    "    return (a)"
   ]
  },
  {
   "cell_type": "code",
   "execution_count": null,
   "metadata": {},
   "outputs": [],
   "source": []
  },
  {
   "cell_type": "code",
   "execution_count": null,
   "metadata": {},
   "outputs": [],
   "source": []
  }
 ],
 "metadata": {
  "kernelspec": {
   "display_name": "Python36",
   "language": "python",
   "name": "python36"
  },
  "language_info": {
   "codemirror_mode": {
    "name": "ipython",
    "version": 3
   },
   "file_extension": ".py",
   "mimetype": "text/x-python",
   "name": "python",
   "nbconvert_exporter": "python",
   "pygments_lexer": "ipython3",
   "version": "3.6.10"
  }
 },
 "nbformat": 4,
 "nbformat_minor": 4
}
