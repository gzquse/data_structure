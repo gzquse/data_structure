{
 "cells": [
  {
   "cell_type": "markdown",
   "metadata": {},
   "source": [
    "# ChainHashMap #"
   ]
  },
  {
   "cell_type": "code",
   "execution_count": 3,
   "metadata": {},
   "outputs": [],
   "source": [
    "from ChainHashMap import ChainHashMap"
   ]
  },
  {
   "cell_type": "code",
   "execution_count": 2,
   "metadata": {},
   "outputs": [
    {
     "name": "stdout",
     "output_type": "stream",
     "text": [
      "hash for A is 10\n",
      "hash for B is 6\n",
      "hash for C is 10\n",
      "hash for D is 6\n",
      "hash for E is 8\n",
      "B:Two, D:Four, \n",
      "E:Five, \n",
      "A:One, C:Three, \n",
      "\n",
      "B:Two, D:Four, \n",
      "E:Five, \n",
      "hash for A is 10\n",
      "\n",
      "B:Two, D:Four, \n",
      "E:Five, \n",
      "A:One1, \n",
      "hash for A is 10\n",
      "\n",
      "B:Two, D:Four, \n",
      "E:Five, \n",
      "A:One2, \n"
     ]
    }
   ],
   "source": [
    "mymap = ChainHashMap()\n",
    "mymap.__setitem__('A', 'One')\n",
    "mymap.__setitem__('B', 'Two')\n",
    "mymap.__setitem__('C', 'Three')\n",
    "mymap.__setitem__('D', 'Four')\n",
    "mymap.__setitem__('E', 'Five')\n",
    "mymap._print_()\n",
    "print('')\n",
    "mymap.__delitem__('A')\n",
    "mymap._print_()\n",
    "mymap.__setitem__('A', 'One1')\n",
    "print('')\n",
    "mymap._print_()\n",
    "mymap.__setitem__('A', 'One2')\n",
    "print('')\n",
    "mymap._print_()"
   ]
  },
  {
   "cell_type": "code",
   "execution_count": null,
   "metadata": {
    "collapsed": true
   },
   "outputs": [],
   "source": []
  }
 ],
 "metadata": {
  "kernelspec": {
   "display_name": "Python conda",
   "language": "python",
   "name": "python3"
  },
  "language_info": {
   "codemirror_mode": {
    "name": "ipython",
    "version": 3
   },
   "file_extension": ".py",
   "mimetype": "text/x-python",
   "name": "python",
   "nbconvert_exporter": "python",
   "pygments_lexer": "ipython3",
   "version": "3.8.5"
  }
 },
 "nbformat": 4,
 "nbformat_minor": 2
}
