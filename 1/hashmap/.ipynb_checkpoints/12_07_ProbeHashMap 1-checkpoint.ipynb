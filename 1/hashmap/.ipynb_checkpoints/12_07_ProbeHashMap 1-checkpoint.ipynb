{
 "cells": [
  {
   "cell_type": "markdown",
   "metadata": {},
   "source": [
    "# ProbeHashMap #"
   ]
  },
  {
   "cell_type": "code",
   "execution_count": 1,
   "metadata": {},
   "outputs": [],
   "source": [
    "from ProbeHashMap import ProbeHashMap"
   ]
  },
  {
   "cell_type": "code",
   "execution_count": 2,
   "metadata": {},
   "outputs": [
    {
     "name": "stdout",
     "output_type": "stream",
     "text": [
      "hash for A is 1\n",
      "hash for B is 8\n",
      "hash for C is 7\n",
      "hash for D is 4\n",
      "hash for E is 4\n",
      "A:One, D:Four, E:Five, C:Three, B:Two, \n",
      "1 A\n",
      "True 1\n",
      "D:Four, E:Five, C:Three, B:Two, hash for A is 1\n",
      "\n",
      "A:One1, D:Four, E:Five, C:Three, B:Two, hash for A is 1\n",
      "\n",
      "A:One2, D:Four, E:Five, C:Three, B:Two, "
     ]
    }
   ],
   "source": [
    "mymap = ProbeHashMap()\n",
    "mymap.__setitem__('A', 'One')\n",
    "mymap.__setitem__('B', 'Two')\n",
    "mymap.__setitem__('C', 'Three')\n",
    "mymap.__setitem__('D', 'Four')\n",
    "mymap.__setitem__('E', 'Five')\n",
    "mymap._print_()\n",
    "print('')\n",
    "mymap.__delitem__('A')\n",
    "mymap._print_()\n",
    "mymap.__setitem__('A', 'One1')\n",
    "print('')\n",
    "mymap._print_()\n",
    "mymap.__setitem__('A', 'One2')\n",
    "print('')\n",
    "mymap._print_()\n"
   ]
  },
  {
   "cell_type": "code",
   "execution_count": null,
   "metadata": {
    "collapsed": true
   },
   "outputs": [],
   "source": []
  }
 ],
 "metadata": {
  "kernelspec": {
   "display_name": "Python conda",
   "language": "python",
   "name": "python3"
  },
  "language_info": {
   "codemirror_mode": {
    "name": "ipython",
    "version": 3
   },
   "file_extension": ".py",
   "mimetype": "text/x-python",
   "name": "python",
   "nbconvert_exporter": "python",
   "pygments_lexer": "ipython3",
   "version": "3.8.5"
  }
 },
 "nbformat": 4,
 "nbformat_minor": 2
}
