{
 "cells": [
  {
   "cell_type": "code",
   "execution_count": 1,
   "metadata": {},
   "outputs": [],
   "source": [
    "\n",
    "\n",
    "class Node:\n",
    "    def __init__ (self, value = None, next = None):\n",
    "        self.value = value\n",
    "        self.next = next\n",
    "\n",
    "class LinkedList:\n",
    "    def __init__(self):\n",
    "        self.head = Node()\n",
    "        self.tail = None\n",
    "        self.length = 0\n",
    "                \n",
    "    def add_first(self, value):\n",
    "        node = Node(value, None)\n",
    "        node.next = self.head.next\n",
    "        self.head.next = node\n",
    "        self.length += 1  \n",
    "    \n",
    "    def add_last(self, value):\n",
    "        new_node = Node(value)\n",
    "        node = self.head\n",
    "        while node.next != None:\n",
    "            node = node.next\n",
    "        node.next = new_node\n",
    "        self.size += 1\n",
    "     \n",
    "    def print_list(self):\n",
    "        node = self.node\n",
    "        while node.next != None:\n",
    "            node = node.next\n",
    "            print(node.value, end=\"\")\n",
    "        print()\n",
    "    \n",
    "    def length(self):\n",
    "        return self.size\n",
    "    \n",
    "    def remove_first(self):\n",
    "        if not self.node.next:\n",
    "            raise Empty('LinkedList is empty')\n",
    "        value = self.head.next\n",
    "        self.head.next = self.head.next.next\n",
    "        self.lenght -= 1\n",
    "        return value\n",
    "\n",
    "    def remove_last(self):\n",
    "        if not self.head.next:\n",
    "            raise Empty('LinkedList is empty')\n",
    "        node = self.head.next\n",
    "        prev = self.head\n",
    "        while node.next != None:\n",
    "            prev = node\n",
    "            node = node.next\n",
    "        prev.next = None\n",
    "        return node.value\n",
    "            \n"
   ]
  },
  {
   "cell_type": "code",
   "execution_count": 10,
   "metadata": {},
   "outputs": [
    {
     "name": "stdout",
     "output_type": "stream",
     "text": [
      "2\n"
     ]
    }
   ],
   "source": [
    "ll = LinkedList()\n",
    "ll.add_first(5)\n",
    "ll.add_first(6)\n",
    "print(ll.length)"
   ]
  },
  {
   "cell_type": "code",
   "execution_count": null,
   "metadata": {},
   "outputs": [],
   "source": []
  }
 ],
 "metadata": {
  "kernelspec": {
   "display_name": "Python36",
   "language": "python",
   "name": "python36"
  },
  "language_info": {
   "codemirror_mode": {
    "name": "ipython",
    "version": 3
   },
   "file_extension": ".py",
   "mimetype": "text/x-python",
   "name": "python",
   "nbconvert_exporter": "python",
   "pygments_lexer": "ipython3",
   "version": "3.6.10"
  }
 },
 "nbformat": 4,
 "nbformat_minor": 4
}
